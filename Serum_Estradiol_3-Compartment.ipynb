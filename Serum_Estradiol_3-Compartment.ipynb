{
 "cells": [
  {
   "cell_type": "code",
   "execution_count": null,
   "id": "2c961656-86a9-49dc-9cca-4d4409b4853a",
   "metadata": {},
   "outputs": [],
   "source": [
    "import numpy as np\n",
    "import matplotlib.pyplot as plt\n",
    "from lmfit import Model"
   ]
  },
  {
   "cell_type": "markdown",
   "id": "3d83d09d-20c8-429c-b433-66271fe8c922",
   "metadata": {},
   "source": [
    "# Preface\n",
    "\n",
    "This notebook aims to model my own estradiol serum concentration from blood test results over the past few months.\n",
    "\n",
    "We start with a 3-compartment linear pharmacokinetic model, then derive the theoretical serum estradiol concentration from the model for completeness (as well as for the learning experience in solving differential equations using Laplace transform).\n",
    "\n",
    "[An Informal Meta-Analysis of Estradiol Curves with Injectable Estradiol Preparations](https://transfemscience.org/articles/injectable-e2-meta-analysis/) by Aly from Transfeminine Science included a model of serum estradiol for a given injectable estradiol regimen. However, I'm currently using various strengths of estradiol patches (a mixture of Estradot and Mylan Estradiol TDP).\n",
    "\n",
    "The aforementioned article from Transfeminine Science uses compartment models obtained from the literature. Here, we will also use a compartment model, in particular the 3-compartment model."
   ]
  },
  {
   "cell_type": "markdown",
   "id": "e0ee4785-26ab-491c-8488-1e632598f05e",
   "metadata": {},
   "source": [
    "# Three Compartment Model\n",
    "\n",
    "The compartment models have the form of the [Bateman equation](https://en.wikipedia.org/wiki/Bateman_equation) that's used in physics to describe nuclear decay rate by modeling the transition rates from one species to another. It's also an example of a [master equation](https://en.wikipedia.org/wiki/Master_equation). However, I haven't encountered master equations besides those in quantum optics.\n",
    "\n",
    "The dynamics of a simple 3-compartment model consists of a system of linear differential equations ([Sheiner et al., 1979](https://doi.org/10.1002/cpt1979253358))\n",
    "\n",
    "\\begin{align*}\n",
    "    \\dot D(t) &= -k_1 D(t) \\\\\n",
    "    \\dot A_{\\rm eff}(t) &= k_1 D(t) - k_2 A_{\\rm eff}(t) \\\\\n",
    "    \\dot E_2(t) &= k_2 A_{\\rm eff}(t) - k_3 E_2(t),\n",
    "\\end{align*}\n",
    "\n",
    "where $\\dot{}$ denotes time derivatives, $D(t)$ is the estradiol concentration within the depot (e.g., the patch sites at $200\\rm~\\mu g/day$), $A_{\\rm eff}$ is the (hypothetical) amount of estradiol in the effect compartment, and $E_2(t)$ is the observed serum estradiol concentration at time $t$.\n",
    "\n",
    "To solve, we use the Laplace transform. The Laplace transform of first-order derivative $\\dot f(t)$ of the function $f(t)$ is given by $$\\mathcal{L}[\\dot f(t)]=s\\hat f(s)-f(t_0),$$ and Laplace transform is linear.\n",
    "\n",
    "Thus, our system of differential equations in the Laplace space $s$ is\n",
    "\n",
    "\\begin{align*}\n",
    "    s\\hat D(s)-D(t_0) &= -k_1\\hat D(s) \\\\\n",
    "    s\\hat A_{\\rm eff}(s)-A_{\\rm eff}(t_0) &= k_1\\hat D(s)-k_2\\hat A_{\\rm eff}(s)\\\\\n",
    "    s\\hat E_2(s)-E_2(t_0) &= k_2\\hat A_{\\rm eff}(s) - k_3\\hat E_2(s).\n",
    "\\end{align*}\n",
    "\n",
    "After grouping like terms, we can rewrite the above system in matrix notation $$\\begin{bmatrix}s+k_1 & 0 & 0 \\\\ -k_1 & s+k_2 & 0 \\\\ 0 & -k_2 & s+k_3\\end{bmatrix}\\begin{bmatrix}\\hat D(s) \\\\ \\hat A_{\\rm eff}(s) \\\\ \\hat E_2(s)\\end{bmatrix}=\\begin{bmatrix}D(t_0) \\\\ A_{\\rm eff}(t_0) \\\\ E_2(t_0) \\end{bmatrix}.$$\n",
    "\n",
    "To solve this system in Laplace space $s$, we use [Cramer's rule](https://en.wikipedia.org/wiki/Cramer's_rule), which gives us\n",
    "\n",
    "\\begin{align*}\n",
    "    \\hat D(s)&=\\frac{\\operatorname{det}\\left|\\begin{matrix}D(t_0) & 0 & 0 \\\\ A_{\\rm eff}(t_0) & s+k_2 & 0 \\\\ E_2(t_0) & -k_2 & s+k_3\\end{matrix}\\right|}{\\operatorname{det}\\left|\\begin{matrix}s+k_1 & 0 & 0 \\\\ -k_1 & s+k_2 & 0 \\\\ 0 & -k_2 & s+k_3\\end{matrix}\\right|}=\\frac{D(t_0)}{s+k_1} \\\\ \\\\\n",
    "    \\hat A_{\\rm eff} &=\\frac{\\operatorname{det}\\left|\\begin{matrix}s+k_1 & D(t_0) & 0 \\\\ -k_1 & A_{\\rm eff}(t_0) & 0 \\\\ 0 & E_2(t_0) & s+k_3\\end{matrix}\\right|}{\\operatorname{det}\\left|\\begin{matrix}s+k_1 & 0 & 0 \\\\ -k_1 & s+k_2 & 0 \\\\ 0 & -k_2 & s+k_3\\end{matrix}\\right|}=\\frac{k_1D(t_0)}{(s+k_1)(s+k_2)}+\\frac{A_{\\rm eff}(t_0)}{s+k_2} \\\\ \\\\\n",
    "    \\hat E_2(s)&=\\frac{\\operatorname{det}\\left|\\begin{matrix}s+k_1 & 0 & D(t_0) \\\\ -k_1 & s+k_2 & A_{\\rm eff}(t_0) \\\\ 0 & -k_2 & E_2(t_0)\\end{matrix}\\right|}{\\operatorname{det}\\left|\\begin{matrix}s+k_1 & 0 & 0 \\\\ -k_1 & s+k_2 & 0 \\\\ 0 & -k_2 & s+k_3\\end{matrix}\\right|}=\\frac{k_1k_2D(t_0)}{(s+k_1)(s+k_2)(s+k_3)}+\\frac{k_2A_{\\rm eff}}{(s+k_2)(s+k_3)}+\\frac{E_2(t_0)}{s+k_3}.\n",
    "\\end{align*}\n",
    "\n",
    "$\\hat E_2(s)$ is our solution to serum estradiol concentration that we can use to model the observed serum level obtained from blood tests. However, it's still in Laplace space $s$. To convert back to the time domain solution $E_2(t)$. From inverse Laplace transform lookup table (plus Wolfram|Alpha), we find that\n",
    "\n",
    "\\begin{align*}\n",
    "    E_2(t) = &~k_1k_2D(t_0)\\left[\\frac{e^{-k_1t}}{(k_1-k_2)(k_1-k_3)} - \\frac{e^{-k_2t}}{(k_1-k_2)(k_2-k_3)} + \\frac{e^{-k_3t}}{(k_1-k_3)(k_2-k_3)}\\right] \\\\\n",
    "    &~k_2A_{\\rm eff}(t_0)\\left[-\\frac{e^{-k_2t}}{k_2-k_3} + \\frac{e^{-k_3t}}{k_2-k_3}\\right] + E_2(t_0)e^{-k_3t},\n",
    "\\end{align*} which matches with the solution found on [Reddit](https://old.reddit.com/r/TransDIY/comments/18zd4qw/routine_change_to_imitate_menstrual_cycle_levels/kghcqhy/)."
   ]
  },
  {
   "cell_type": "code",
   "execution_count": null,
   "id": "bbd890b0-1f0f-40a9-81b4-a9fb8e534c09",
   "metadata": {},
   "outputs": [],
   "source": []
  }
 ],
 "metadata": {
  "kernelspec": {
   "display_name": "Python 3 (ipykernel)",
   "language": "python",
   "name": "python3"
  },
  "language_info": {
   "codemirror_mode": {
    "name": "ipython",
    "version": 3
   },
   "file_extension": ".py",
   "mimetype": "text/x-python",
   "name": "python",
   "nbconvert_exporter": "python",
   "pygments_lexer": "ipython3",
   "version": "3.10.13"
  }
 },
 "nbformat": 4,
 "nbformat_minor": 5
}
