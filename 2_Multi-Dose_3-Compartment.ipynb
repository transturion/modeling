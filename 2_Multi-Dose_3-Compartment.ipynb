{
 "cells": [
  {
   "cell_type": "markdown",
   "id": "05530665-61e8-4206-b84f-42e4e55e8ec7",
   "metadata": {},
   "source": [
    "# Multi-Dose 3-Compartment Model\n",
    "\n",
    "To model the pharmacokinetics of a multi-dose compartment model, we start by treating the drug administration as Dirac pulses [(Hacisalihzade & Mansour, 1985)](https://www.sciencedirect.com/science/article/pii/002071018590073X)."
   ]
  },
  {
   "cell_type": "markdown",
   "id": "d4311e8a-6942-414d-bfd6-5e836c9f7225",
   "metadata": {},
   "source": [
    "## Pulse-Response\n",
    "\n",
    "Define $u(t)$ as the drug administration function, by modeling the administration of $n$ doses as Dirac pulses, we have $$u(t)=\\sum_{i=1}^nd_i\\delta(t-\\tau_i),$$ where $d_i$ is the reference dose. Further define $y(t)$ the plasma concentration of the drug as a function of $u(t)$, given by the convolution between the drug administration function $u(t)$ and dose-response $D(t)$\n",
    "\n",
    "\\begin{align*}\n",
    "    y(t):=u\\star D(t)&=\\int_0^tu(\\tau)D(t-\\tau)~\\operatorname{d\\tau}\\\\\n",
    "    &=\\int_0^t\\sum_{i=1}^nd_i\\delta(\\tau-\\tau_i)D(t-\\tau)~\\operatorname{d\\tau}\\\\\n",
    "    &=\\sum_{i=1}^nd_i\\int_0^t\\delta(\\tau-\\tau_i)D(t-\\tau)~\\operatorname{d\\tau}\\\\\n",
    "    &=\\sum_{i=1}^nd_iD(t-\\tau_i),\n",
    "\\end{align*}\n",
    "[where](https://discord.com/channels/438306949285806082/438308040446574592/1199919251767697518) $D(t-\\tau_i)$ is the weight of the Dirac pulses $\\delta(t-\\tau_i)$, i.e., $D(t-\\tau_i)$ is the theoretical pulse response and is nothing else but the time history of the drug's blood concentration after a drug administration $u(t)$ at $\\tau_i$."
   ]
  },
  {
   "cell_type": "markdown",
   "id": "7dd88b4f-600c-47de-bd01-934946c40785",
   "metadata": {},
   "source": [
    "## The Multi-Dose 3-Compartment Model\n",
    "\n",
    "The general multi-dose 3-compartment model [is then given by](https://discord.com/channels/438306949285806082/438308040446574592/1199925107221594222)\n",
    "\n",
    "\\begin{align*}\n",
    "    \\dot B(t) &= y(t) - k_1B(t) = \\sum_{i=1}^nd_iD(t-t_i)-k_1B(t), \\\\\n",
    "    \\dot A_{\\rm eff}(t) &= k_1 B(t) - k_2 A_{\\rm eff}(t), \\\\\n",
    "    \\dot E_2(t) &= k_2 A_{\\rm eff}(t) - k_3 E_2(t),\n",
    "\\end{align*}\n",
    "\n",
    "- where $B(t)$ is the diffusion of the drug from depot to blood (previously in the [Single-Dose 3-Compartment model](1_Serum_Estradiol_Single-Dose_3-Compartment.ipynb), we used $D(t)$, but we saw from the fitted model for $100\\rm~\\mu g$ Mylan Estradiol TDP that $D(t=0)$ is [not](https://discord.com/channels/438306949285806082/438308040446574592/1200606417250431107) the dosage since we [left](https://discord.com/channels/438306949285806082/438308040446574592/1200568615255146646) unit conversions to the fitting parameters by the optimizer);\n",
    "- $d_i$ is the reference dose that we will get out from the fit;\n",
    "- $D(t-\\tau_i)$ is the weight of the Dirac pulses, and due to the use of Dirac deltas in our model of dose administration, we also have the initial conditions $B(t_0) = A_{\\rm eff}(t_0) = E_2(t_0) = 0$, which is [equivalent](https://discord.com/channels/438306949285806082/438308040446574592/1200962833899331655) to the [impulse response formalism](https://en.wikipedia.org/wiki/Impulse_response);\n",
    "- By considering $D(t-\\tau_i)=H(t-\\tau_i)$ as the Heaviside function, then $d_i$ is doing the scaling and is fitted by the optimizer;\n",
    "The rest of the terms have the same meaning as before (see the [Single-Dose 3-Compartment model](1_Serum_Estradiol_Single-Dose_3-Compartment.ipynb))."
   ]
  },
  {
   "cell_type": "markdown",
   "id": "2cad52b8-c49d-40ed-86a5-e830a41c3ee5",
   "metadata": {},
   "source": [
    "Under Laplace transform, we find that\n",
    "\n",
    "\\begin{align*}\n",
    "    s\\hat B(s)-B(t_0) &= \\mathcal{L}\\left[y(t)\\right]-k_1\\mathcal{L}\\left[B(t)\\right], \\\\\n",
    "    s\\hat A_{\\rm eff}(s)-A_{\\rm eff}(t_0) &= k_1\\hat B(s)-k_2\\hat A_{\\rm eff}(s), \\\\\n",
    "    s\\hat E_2(s)-E_2(t_0) &= k_2\\hat A_{\\rm eff}(s) - k_3\\hat E_2(s),\n",
    "\\end{align*}\n",
    "\n",
    "where $\\mathcal{L}[y(t)]$ is as follows, with $D(t-\\tau)$ the Heaviside function:\n",
    "\n",
    "\\begin{align*}\n",
    "    \\mathcal{L}\\left[y(t)\\right]&=\\mathcal{L}\\left[\\int_0^tu(\\tau)D(t-\\tau)~\\operatorname{d\\tau}\\right] \\\\\n",
    "    &=\\mathcal{L}\\left[\\int_0^t\\sum_{i=1}^nd_i\\delta(\\tau-\\tau_i)D(t-\\tau)~\\operatorname{d\\tau}\\right] \\\\\n",
    "    &=\\sum_{i=1}^nd_i~\\mathcal{L}\\left[\\int_0^t\\delta(\\tau-\\tau_i)D(t-\\tau)~\\operatorname{d\\tau}\\right] \\\\\n",
    "    &=\\sum_{i=1}^nd_i~\\mathcal{L}\\left[D(t-\\tau_i)\\right] \\\\\n",
    "    &=\\sum_{i=1}^nd_i\\frac1se^{-\\tau_is},\n",
    "\\end{align*} where we can write $\\tau_i$ is a dummy variable, and we will write $\\tau_i=t_i$ in the next step.\n",
    "\n",
    "Thus, our multi-dose system in Laplace space is given by\n",
    "\n",
    "\\begin{align*}\n",
    "    s\\hat B(s)-B(t_0) &= \\sum_{i=1}^nd_i\\frac1se^{-t_is}-k_1\\hat B(s), \\\\\n",
    "    s\\hat A_{\\rm eff}(s)-A_{\\rm eff}(t_0) &= k_1\\hat B(s)-k_2\\hat A_{\\rm eff}(s), \\\\\n",
    "    s\\hat E_2(s)-E_2(t_0) &= k_2\\hat A_{\\rm eff}(s) - k_3\\hat E_2(s).\n",
    "\\end{align*}\n",
    "\n",
    "Rewriting in matrix notation, we have\n",
    "\n",
    "$$\\begin{bmatrix}s+k_1 & 0 & 0 \\\\ -k_1 & s+k_2 & 0 \\\\ 0 & -k_2 & s+k_3\\end{bmatrix}\\begin{bmatrix}\\hat B(s) \\\\ \\hat A_{\\rm eff}(s) \\\\ \\hat E_2(s)\\end{bmatrix}=\\begin{bmatrix}B(t_0)+\\sum d_i\\frac1se^{-t_is} \\\\ A_{\\rm eff}(t_0) \\\\ E_2(t_0) \\end{bmatrix}=\\begin{bmatrix}\\sum d_i\\frac1se^{-t_is} \\\\ 0 \\\\ 0 \\end{bmatrix}.$$\n",
    "\n",
    "Again, by Cramer's rule, we find the solution to $\\hat E_2(s)$ to be\n",
    "\n",
    "$$\\hat E_2(s)=\\frac{\\operatorname{det}\\left|\\begin{matrix}s+k_1 & 0 & \\sum d_i\\frac1se^{-t_is} \\\\ -k_1 & s+k_2 & 0 \\\\ 0 & -k_2 & 0 \\end{matrix}\\right|}{\\operatorname{det}\\left|\\begin{matrix}s+k_1 & 0 & 0 \\\\ -k_1 & s+k_2 & 0 \\\\ 0 & -k_2 & s+k_3\\end{matrix}\\right|}=\\frac{k_1k_2\\sum d_i\\frac1se^{-t_is}}{(s+k_1)(s+k_2)(s+k_3)}.$$\n",
    "\n",
    "The inverse Laplace transform of $\\hat E_2(s)$ gives us the solution to serum estradiol $E_2(t)$ in the time domain (by contour integration)\n",
    "\n",
    "$$E_2(t) = k_1k_2\\sum_id_iH(t-t_i)\\left[\\frac{e^{-k_1(t-t_i)}}{(k_1-k_2)(k_1-k_3)} - \\frac{e^{-k_2(t-t_i)}}{(k_1-k_2)(k_2-k_3)} + \\frac{e^{-k_3(t-t_i)}}{(k_1-k_3)(k_2-k_3)}\\right].$$"
   ]
  },
  {
   "cell_type": "code",
   "execution_count": null,
   "id": "4c53c56b-8afc-4dc4-b78e-0d52c8ded967",
   "metadata": {},
   "outputs": [],
   "source": []
  }
 ],
 "metadata": {
  "kernelspec": {
   "display_name": "Python 3 (ipykernel)",
   "language": "python",
   "name": "python3"
  },
  "language_info": {
   "codemirror_mode": {
    "name": "ipython",
    "version": 3
   },
   "file_extension": ".py",
   "mimetype": "text/x-python",
   "name": "python",
   "nbconvert_exporter": "python",
   "pygments_lexer": "ipython3",
   "version": "3.10.13"
  }
 },
 "nbformat": 4,
 "nbformat_minor": 5
}
