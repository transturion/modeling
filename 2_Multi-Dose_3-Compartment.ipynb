{
 "cells": [
  {
   "cell_type": "markdown",
   "id": "05530665-61e8-4206-b84f-42e4e55e8ec7",
   "metadata": {},
   "source": [
    "To model the pharmacokinetics of a multi-dose compartment model, we start by treating the drug administration as Dirac pulses [(Hacisalihzade & Mansour, 1985)](https://www.sciencedirect.com/science/article/pii/002071018590073X)."
   ]
  },
  {
   "cell_type": "markdown",
   "id": "d4311e8a-6942-414d-bfd6-5e836c9f7225",
   "metadata": {},
   "source": [
    "# Pulse-Response\n",
    "\n",
    "Define $u(t)$ as the drug administration function, by modeling the administration of $n$ doses as Dirac pulses, we have $$u(t)=\\sum_{i=1}^nd_i\\delta(t-\\tau_i),$$ where $d_i$ is the reference dose. Further define $y(t)$ the plasma concentration of the drug as a function of $u(t)$, given by the convolution between the drug administration function $u(t)$ and dose-response $D(t)$\n",
    "\n",
    "\\begin{align*}\n",
    "    y(t):=u\\star D(t)&=\\int_0^tu(\\tau)D(t-\\tau)~\\operatorname{d\\tau}\\\\\n",
    "    &=\\int_0^t\\sum_{i=1}^nd_i\\delta(\\tau-\\tau_i)D(t-\\tau)~\\operatorname{d\\tau}\\\\\n",
    "    &=\\sum_{i=1}^nd_i\\int_0^t\\delta(\\tau-\\tau_i)D(t-\\tau)~\\operatorname{d\\tau}\\\\\n",
    "    &=\\sum_{i=1}^nd_iD(t-\\tau_i),\n",
    "\\end{align*}\n",
    "[where](https://discord.com/channels/438306949285806082/438308040446574592/1199919251767697518) $D(t-\\tau_i)$ is the weight of the Dirac pulses $\\delta(t-\\tau_i)$, i.e., $D(t-\\tau_i)$ is the theoretical pulse response and is nothing else but the time history of the drug's blood concentration after a drug administration $u(t)$ at $\\tau_i$."
   ]
  },
  {
   "cell_type": "markdown",
   "id": "7dd88b4f-600c-47de-bd01-934946c40785",
   "metadata": {},
   "source": [
    "# The Multi-Dose 3-Compartment Model\n",
    "\n",
    "The general multi-dose 3-compartment model [is then given by](https://discord.com/channels/438306949285806082/438308040446574592/1199925107221594222)\n",
    "\n",
    "\\begin{align*}\n",
    "    \\dot B(t) &= u(t) - k_1B(t) = \\sum_{i=1}^nd_i\\delta(t-\\tau_i)-k_1B(t), \\\\\n",
    "    \\dot A_{\\rm eff}(t) &= k_1 B(t) - k_2 A_{\\rm eff}(t), \\\\\n",
    "    \\dot E_2(t) &= k_2 A_{\\rm eff}(t) - k_3 E_2(t),\n",
    "\\end{align*}\n",
    "\n",
    "- where $B(t)$ is the diffusion of the drug from depot to blood (previously in the [Single-Dose 3-Compartment model](1_Serum_Estradiol_Single-Dose_3-Compartment.ipynb), we used $D(t)$, but we saw from the fitted model for $100\\rm~\\mu g$ Mylan Estradiol TDP that $D(t=0)$ is [not](https://discord.com/channels/438306949285806082/438308040446574592/1200606417250431107) the dosage since we [left](https://discord.com/channels/438306949285806082/438308040446574592/1200568615255146646) unit conversions to the fitting parameters);\n",
    "- The impulse response (drug administration) is [described](https://discord.com/channels/438306949285806082/438308040446574592/1201305896177901668) by the superposition of Dirac deltas, with $B(t_0)=d_0$ the initial dose (or [equivalently](https://discord.com/channels/438306949285806082/438308040446574592/1201302487886471269) having $d_0\\delta(t-t_0)$ at initial time $t_0$);\n",
    "- $d_i$ is the reference dose at time $t_i$ that we will get out from the fit;\n",
    "- The rest of the terms have the same meaning as before (see the [Single-Dose 3-Compartment model](1_Serum_Estradiol_Single-Dose_3-Compartment.ipynb))."
   ]
  },
  {
   "cell_type": "markdown",
   "id": "0f22ae89-ee59-4f2e-bb1d-f6b3b06a0e74",
   "metadata": {},
   "source": [
    "Under Laplace transform, we find that\n",
    "\n",
    "\\begin{align*}\n",
    "    s\\hat B(s)-B(t_0) &= \\mathcal{L}\\left[u(t)\\right]-k_1\\hat B(s), \\\\\n",
    "    s\\hat A_{\\rm eff}(s)-A_{\\rm eff}(t_0) &= k_1\\hat B(s)-k_2\\hat A_{\\rm eff}(s), \\\\\n",
    "    s\\hat E_2(s)-E_2(t_0) &= k_2\\hat A_{\\rm eff}(s) - k_3\\hat E_2(s),\n",
    "\\end{align*}\n",
    "\n",
    "where $\\mathcal{L}[u(t)]$ is given by\n",
    "\n",
    "\\begin{align*}\n",
    "    \\mathcal{L}\\left[u(t)\\right]&=\\mathcal{L}\\left[\\sum_{i=1}^nd_i\\delta(t-t_i)\\right] \\\\\n",
    "    &=\\mathcal{L}\\left[\\int_0^t\\sum_{i=1}^nd_i\\delta(t-t_i)e^{-st}~\\operatorname{dt}\\right] \\\\\n",
    "    &=\\sum_{i=1}^nd_ie^{-st_i}.\n",
    "\\end{align*}\n",
    "\n",
    "Thus, our multi-dose system in Laplace space is given by\n",
    "\n",
    "\\begin{align*}\n",
    "    (s+k_1)\\hat B(s) &= B(t_0)+\\sum_{i=1}^nd_ie^{-st_i}, \\\\\n",
    "    -k_1\\hat B(s) + (s+k_2)\\hat A_{\\rm eff}(s) &= A_{\\rm eff}(t_0), \\\\\n",
    "    -k_2\\hat A_{\\rm eff}(s) + (s+k_3)\\hat E_2(s) &= E_2(t_0).\n",
    "\\end{align*}\n",
    "\n",
    "Rewriting in matrix notation, we have\n",
    "\n",
    "$$\\begin{bmatrix}s+k_1 & 0 & 0 \\\\ -k_1 & s+k_2 & 0 \\\\ 0 & -k_2 & s+k_3\\end{bmatrix}\\begin{bmatrix}\\hat B(s) \\\\ \\hat A_{\\rm eff}(s) \\\\ \\hat E_2(s)\\end{bmatrix}=\\begin{bmatrix}B(t_0)+\\sum d_ie^{-st_i} \\\\ A_{\\rm eff}(t_0) \\\\ E_2(t_0) \\end{bmatrix}.$$\n",
    "\n",
    "By Cramer's rule, we find the solutions in Laplace space:\n",
    "\n",
    "\\begin{align*}\n",
    "    \\hat B(s)&=\\frac{\\operatorname{det}\\left|\\begin{matrix}B(t_0)+\\sum d_ie^{-st_i} & 0 & 0 \\\\ A_{\\rm eff}(t_0) & s+k_2 & 0 \\\\ E_2(t_0) & -k_2 & s+k_3 \\end{matrix}\\right|}{\\operatorname{det}\\left|\\begin{matrix}s+k_1 & 0 & 0 \\\\ -k_1 & s+k_2 & 0 \\\\ 0 & -k_2 & s+k_3\\end{matrix}\\right|}=\\frac1{s+k_1}\\left[B(t_0)+\\sum_{i=1}^nd_ie^{-st_i}\\right],\\\\ \\\\\n",
    "    \\hat A_{\\rm eff}(s)&=\\frac{\\operatorname{det}\\left|\\begin{matrix}s+k_1 & B(t_0)+\\sum d_ie^{-st_i} & 0 \\\\ -k_1 & A_{\\rm eff}(t_0) & 0 \\\\ 0 & E_2(t_0) & s+k_3 \\end{matrix}\\right|}{\\operatorname{det}\\left|\\begin{matrix}s+k_1 & 0 & 0 \\\\ -k_1 & s+k_2 & 0 \\\\ 0 & -k_2 & s+k_3\\end{matrix}\\right|}=\\frac{k_1B(t_0)}{(s+k_1)(s+k_2)}+\\frac{k_1\\sum d_ie^{-st_i}}{(s+k_1)(s+k_2)}+\\frac{A_{\\rm eff}(t_0)}{s+k_2},\\\\ \\\\\n",
    "    \\hat E_2(s)&=\\frac{\\operatorname{det}\\left|\\begin{matrix}s+k_1 & 0 & B(t_0)+\\sum d_ie^{-st_i} \\\\ -k_1 & s+k_2 & A_{\\rm eff}(t_0) \\\\ 0 & -k_2 & E_2(t_0) \\end{matrix}\\right|}{\\operatorname{det}\\left|\\begin{matrix}s+k_1 & 0 & 0 \\\\ -k_1 & s+k_2 & 0 \\\\ 0 & -k_2 & s+k_3\\end{matrix}\\right|}=\\frac{k_1k_2}{(s+k_1)(s+k_2)(s+k_3)}\\left[B(t_0)+\\sum_{i=1}^n d_ie^{-st_i}\\right]+\\frac{k_2A_{\\rm eff}(t_0)}{(s+k_2)(s+k_3)}+\\frac{E_2(t_0)}{s+k_3}.\n",
    "\\end{align*}"
   ]
  },
  {
   "cell_type": "markdown",
   "id": "b26abd77-ad28-4896-82d2-92945f4b8dde",
   "metadata": {},
   "source": [
    "# Inverse Laplace Transformation by Contour Integration and the Theory of Residues\n",
    "\n",
    "The general method [(Tang-2, Eq 6.124, p. 332)](https://link.springer.com/book/10.1007/978-3-540-30270-4) for taking the inverse Laplace transform of the Laplace space solution $\\hat F(s)$ is by contour integrating $\\hat F(s)\\to\\hat F(z)$ in the complex plane (I'm doing this to \"build character\", as JJE once said to the whole class)\n",
    "\n",
    "\\begin{align*}\n",
    "    \\mathcal{L}^{-1}\\left[\\hat F(s)\\right]&=\\frac1{2\\pi i}\\oint_cF(z)e^{zt}~\\operatorname{dz}\\\\\n",
    "    &=\\sum_j\\operatorname{Res}_{z=z_j}\\left[F(z)e^{zt}\\right],\n",
    "\\end{align*} where $z_j$ is a singularity of $F(z)e^{zt}$ in the complex plane.\n",
    "\n",
    "We can find the residue of $h(z)$ at a simple pole $z_0$ by [(Tang-1, Sect. 3.4.1, p. 141)](https://link.springer.com/book/10.1007/978-3-540-30274-2) $$\\operatorname{Res}_{z=z_0}\\left[g(z)\\right]\\equiv a_{-1}=\\lim_{z\\to z_0}(z-z_0)g(z),$$ where $a_{-1}$ is the $z^{-1}$ term in the Laurent series expansion of $h(z)$ around $z=z_0$."
   ]
  },
  {
   "cell_type": "markdown",
   "id": "bdff40d3-f71b-4725-afd8-98be215d7637",
   "metadata": {},
   "source": [
    "## Solutions\n",
    "\n",
    "### Solution to the Drug Diffusion $B(t)$ into the Bloodstream\n",
    "\n",
    "We start with $B(t)$, where $\\hat B(s)=\\frac1{s+k_1}\\left[B(t_0)+\\sum_{i=1}^nd_ie^{-st_i}\\right]$:\n",
    "\n",
    "\\begin{align*}\n",
    "    B(t)=\\mathcal{L}^{-1}\\left[\\hat B(s)\\right]&=\\frac1{2\\pi i}\\oint_c\\frac1{z+k_1}\\left[B(t_0)+\\sum_{i=1}^nd_ie^{-zt_i}\\right]e^{zt}\\operatorname{dz}\\\\\n",
    "    &=\\frac1{2\\pi i}\\oint_c\\frac1{z+k_1}\\left[B(t_0)e^{zt}+\\sum_{i=1}^nd_ie^{z(t-t_i)}\\right]\\operatorname{dz},\n",
    "\\end{align*} for some appropriately choosen contour $c$ that we are not going to worry about.\n",
    "\n",
    "Here, we have a simple pole at $z=-k_1$. Thus, by the theory of residues, we have\n",
    "\n",
    "\\begin{align*}\n",
    "    \\mathcal{L}^{-1}\\left[\\hat B(s)\\right]&=\\operatorname{Res}_{z=-k_1}\\left\\{\\frac1{z+k_1}\\left[B(t_0)e^{zt}+\\sum_{i=1}^nd_ie^{z(t-t_i)}\\right]\\right\\}\\\\\n",
    "    &=\\lim_{z\\to-k_1}\\left\\{\\cancel{\\frac{z+k_1}{z+k_1}}\\left[B(t_0)e^{zt}+\\sum_{i=1}^nd_ie^{z(t-t_i)}\\right]\\right\\}\\\\\n",
    "    &=B(t_0)e^{-k_1t}+\\sum_{i=1}^nd_ie^{-k_1(t-t_i)}.\n",
    "\\end{align*}\n",
    "\n",
    "But because of the summation of $t_i$ where we have Dirac pulses $\\delta(t-t_i)$ , in addition to the [problem](https://discord.com/channels/438306949285806082/438308040446574592/1201917148080111646) that [if](https://discord.com/channels/438306949285806082/438308040446574592/1201993130493358211) $t<0$, $e^{-k_1t}\\to\\infty$, we [thus require](https://discord.com/channels/438306949285806082/438308040446574592/1201299068115243048) $$B(t)=\\sum_iB(t_i)H(t-t_i)e^{-k_1(t-t_i)}+\\sum_{i=1}^nd_iH(t-t_i)e^{-k_1(t-t_i)},$$ where $H(t-t_i)$ is the Heaviside function that [returns](https://discord.com/channels/438306949285806082/1201973466845151362/1201989590488186891) $H(t-t_i)=1$ for $t\\ge t_i$ and $H(t-t_i)=0$ otherwise."
   ]
  },
  {
   "cell_type": "markdown",
   "id": "f6f6300d-7890-4e03-ab20-faa7f0584210",
   "metadata": {},
   "source": [
    "### Solution to the Effect Compartment $A_{\\rm eff}(t)$ ([Skin](https://discord.com/channels/438306949285806082/438308040446574592/1201379821607981136) Reservoir)\n",
    "\n",
    "Next for $\\hat A_{\\rm eff}=\\frac{k_1B(t_0)}{(s+k_1)(s+k_2)}+\\frac{k_1\\sum d_ie^{-st_i}}{(s+k_1)(s+k_2)}+\\frac{A_{\\rm eff}(t_0)}{s+k_2}$, the inverse Laplace transform is given by\n",
    "\n",
    "\\begin{align*}\n",
    "    A_{\\rm eff}(t)=\\mathcal{L}^{-1}\\left[\\hat A_{\\rm eff}(s)\\right]&=\\frac1{2\\pi i}\\oint_c\\frac{k_1B(t_0)e^{zt}}{(z+k_1)(z+k_2)}\\operatorname{dz}+\\frac1{2\\pi i}\\oint_c\\frac{k_1\\sum d_ie^{z(t-t_i)}}{(z+k_1)(z+k_2)}\\operatorname{dz}+\\frac1{2\\pi i}\\oint_c\\frac{A_{\\rm eff}(t_0)e^{zt}}{z+k_2}\\operatorname{dz}\\\\\n",
    "    &=\\sum_{j=1}^2\\operatorname{Res}_j\\left[\\frac{k_1B(t_0)e^{zt}}{(z+k_1)(z+k_2)}\\right]+\\sum_{j=1}^2\\operatorname{Res}_j\\left[\\frac{k_1\\sum d_ie^{z(t-t_i)}}{(z+k_1)(z+k_2)}\\right]+\\operatorname{Res}_{z=-k_2}\\left[\\frac{A_{\\rm eff}(t_0)e^{zt}}{z+k_2}\\right]\\\\\n",
    "    &=\\lim_{z\\to-k_1}\\cancel{(z+k_1)}\\left[\\frac{k_1B(t_0)e^{zt}}{\\cancel{(z+k_1)}(z+k_2)}\\right]+\\lim_{z\\to-k_2}\\cancel{(z+k_2)}\\left[\\frac{k_1B(t_0)e^{zt}}{(z+k_1)\\cancel{(z+k_2)}}\\right]\\\\\n",
    "    &~~~~+\\lim_{z\\to-k_1}\\cancel{(z+k_1)}\\left[\\frac{k_1\\sum d_ie^{z(t-t_i)}}{\\cancel{(z+k_1)}(z+k_2)}\\right]+\\lim_{z\\to-k_2}\\cancel{(z+k_2)}\\left[\\frac{k_1\\sum d_ie^{z(t-t_i)}}{(z+k_1)\\cancel{(z+k_2)}}\\right]\\\\\n",
    "    &~~~~+\\lim_{z\\to-k_2}\\cancel{(z+k_2)}\\left[\\frac{A_{\\rm eff}(t_0)e^{zt}}{\\cancel{z+k_2}}\\right]\\\\\n",
    "    &=\\frac{k_1B(t_0)}{(-k_1+k_2)}e^{-k_1t}+\\frac{k_1B(t_0)}{(k_1-k_2)}e^{-k_2t}+\\frac{k_1\\sum d_iH(t-t_i)}{-k_1+k_2}e^{-k_1(t-t_i)}+\\frac{k_1\\sum d_iH(t-t_i)}{k_1-k_2}e^{-k_2(t-t_i)}+A_{\\rm eff}(t_0)e^{-k_2t}\\\\\n",
    "    &=-\\frac{k_1B(t_0)}{k_1-k_2}e^{-k_1t}+\\frac{k_1B(t_0)}{k_1-k_2}e^{-k_2t}-\\frac{k_1\\sum d_iH(t-t_i)}{k_1-k_2}e^{-k_1(t-t_i)}+\\frac{k_1\\sum d_iH(t-t_i)}{k_1-k_2}e^{-k_2(t-t_i)}+A_{\\rm eff}(t_0)e^{-k_2t}\\\\\n",
    "    &=\\frac{k_1B(t_0)}{k_1-k_2}\\left[-e^{-k_1t}+e^{-k_2t}\\right]+\\frac{k_1\\sum d_iH(t-t_i)}{k_1-k_2}\\left[-e^{-k_1(t-t_i)}+e^{-k_2(t-t_i)}\\right]+A_{\\rm eff}(t_0)e^{-k_2t}.\n",
    "\\end{align*}"
   ]
  },
  {
   "cell_type": "markdown",
   "id": "273e601f-5c51-41d9-a30f-28666dc10474",
   "metadata": {},
   "source": [
    "Again, the above is true for $t\\ge0$. In general, we have\n",
    "\n",
    "\\begin{align*}\n",
    "    A_{\\rm eff}(t)&=\\frac{k_1}{k_1-k_2}\\sum_{i=1}^n B(t_i)H(t-t_i)\\left[-e^{-k_1(t-t_i)}+e^{-k_2(t-t_i)}\\right]\\\\\n",
    "    &~~~~+\\frac{k_1\\sum d_iH(t-t_i)}{k_1-k_2}\\left[-e^{-k_1(t-t_i)}+e^{-k_2(t-t_i)}\\right]\\\\\n",
    "    &~~~~+\\sum_{i=1}^nA_{\\rm eff}(t_i)H(t-t_i)e^{-k_2(t-t_i)}.\n",
    "\\end{align*}"
   ]
  },
  {
   "cell_type": "markdown",
   "id": "435492a9-6a6c-4e5b-a04e-7da26639b672",
   "metadata": {},
   "source": [
    "### Solution to Serum Estradiol $E_2(t)$\n",
    "\n",
    "Finally for $\\hat E_2(s)=\\frac{k_1k_2}{(s+k_1)(s+k_2)(s+k_3)}\\left[B(t_0)+\\sum_{i=1}^n d_ie^{-st_i}\\right]+\\frac{k_2A_{\\rm eff}(t_0)}{(s+k_2)(s+k_3)}+\\frac{E_2(t_0)}{s+k_3}$ where we have the inverse Laplace transform via contour integration\n",
    "\n",
    "\\begin{align*}\n",
    "    E_2(t)=\\mathcal{L}^{-1}\\left[\\hat E_2(s)\\right]&=\\frac1{2\\pi i}\\oint_c\\frac{k_1k_2}{(z+k_1)(z+k_2)(z+k_3)}\\left[B(t_0)e^{zt}+\\sum_{i=1}^n d_ie^{z(t-t_i)}\\right]\\\\\n",
    "    &~~~~+\\frac1{2\\pi i}\\oint_c\\frac{k_2A_{\\rm eff}(t_0)e^{zt}\\operatorname{dz}}{(z+k_2)(z+k_3)}+\\frac1{2\\pi i}\\oint_c\\frac{E_2(t_0)e^{zt}}{z+k_3}\\operatorname{dz}\\\\\n",
    "    &=\\sum_{j=1}^3\\operatorname{Res}_{z=-k_j}\\left[\\frac{k_1k_2B(t_0)e^{zt}}{(z+k_1)(z+k_2)(z+k_3)}+\\frac{k_1k_2\\sum d_ie^{z(t-t_i)}}{(z+k_1)(z+k_2)(z+k_3)}\\right]\\\\\n",
    "    &~~~~+\\sum_{j=2}^3\\operatorname{Res}_{z=-k_j}\\left[\\frac{k_2A_{\\rm eff}(t_0)e^{zt}}{(z+k_2)(z+k_3)}\\right]+\\operatorname{Res}_{z=-k_3}\\left[\\frac{E_2(t_0)e^{zt}}{z+k_3}\\right]\\\\\n",
    "    &=\\lim_{z\\to-k_1}\\left[\\frac{k_1k_2B(t_0)e^{zt}}{(z+k_2)(z+k_3)}+\\frac{k_1k_2\\sum d_ie^{z(t-t_i)}}{(z+k_2)(z+k_3)}\\right]+\\lim_{z\\to-k_2}\\left[\\frac{k_1k_2B(t_0)e^{zt}}{(z+k_1)(z+k_3)}+\\frac{k_1k_2\\sum d_ie^{z(t-t_i)}}{(z+k_1)(z+k_3)}\\right]+\\lim_{z\\to-k_3}\\left[\\frac{k_1k_2B(t_0)e^{zt}}{(z+k_1)(z+k_2)}+\\frac{k_1k_2\\sum d_ie^{z(t-t_i)}}{(z+k_1)(z+k_2)}\\right]\\\\\n",
    "    &~~~~+\\lim_{z\\to-k_2}\\left[\\frac{k_2A_{\\rm eff}(t_0)e^{zt}}{(z+k_3)}\\right]+\\lim_{z\\to-k_3}\\left[\\frac{k_2A_{\\rm eff}(t_0)e^{zt}}{(z+k_2)}\\right]+\\lim_{z\\to-k_3}E_2(t_0)e^{zt}\\\\\n",
    "    &=k_1k_2B(t_0)\\left[\\frac{e^{-k_1t}}{(k_1-k_2)(k_1-k_3)} - \\frac{e^{-k_2t}}{(k_1-k_2)(k_2-k_3)} + \\frac{e^{-k_3t}}{(k_1-k_3)(k_2-k_3)}\\right]\\\\\n",
    "    &~~~~+k_1k_2\\sum_{i=1}^nd_iH(t-t_i)\\left[\\frac{e^{-k_1(t-t_i)}}{(k_1-k_2)(k_1-k_3)} - \\frac{e^{-k_2(t-t_i)}}{(k_1-k_2)(k_2-k_3)} + \\frac{e^{-k_3(t-t_i)}}{(k_1-k_3)(k_2-k_3)}\\right]\\\\\n",
    "    &~~~~+\\frac{k_2A_{\\rm eff}(t_0)}{k_2-k_3}\\left[-e^{-k_2t}+e^{-k_3t}\\right]+E_2(t_0)e^{-k_3t}.\n",
    "\\end{align*}"
   ]
  },
  {
   "cell_type": "markdown",
   "id": "76e6d392-463b-4eb0-b9bf-afa070b0b293",
   "metadata": {},
   "source": [
    "More [generally](https://discord.com/channels/438306949285806082/1201973466845151362/1201990605597581312), we have\n",
    "\n",
    "\\begin{align*}\n",
    "    E_2(t)&=k_1k_2\\sum_{i=1}^nd_i'H(t-t_i)\\left[\\frac{e^{-k_1(t-t_i)}}{(k_1-k_2)(k_1-k_3)} - \\frac{e^{-k_2(t-t_i)}}{(k_1-k_2)(k_2-k_3)} + \\frac{e^{-k_3(t-t_i)}}{(k_1-k_3)(k_2-k_3)}\\right]\\\\\n",
    "    &~~~~+\\frac{k_2}{k_2-k_3}\\sum_{i=1}^nA_{\\rm eff}(t_i)H(t-t_i)\\left[-e^{-k_2(t-t_i)}+e^{-k_3(t-t_i)}\\right]+\\sum_{i=1}^nE_2(t_i)H(t-t_i)e^{-k_3(t-t_i)},\n",
    "\\end{align*}\n",
    "\n",
    "where $d_i'=B(t_i)+d_i$ and $d_i\\equiv d(t_i)$."
   ]
  },
  {
   "cell_type": "markdown",
   "id": "59e17fcc-51f2-4224-8f06-4f6594742bbb",
   "metadata": {},
   "source": [
    "# Bayesian Inference and Markov Chain Monte Carlo Sampling"
   ]
  },
  {
   "cell_type": "code",
   "execution_count": 1,
   "id": "aaaa6b5b-ec70-438a-863f-c2690288adf9",
   "metadata": {},
   "outputs": [
    {
     "name": "stdout",
     "output_type": "stream",
     "text": [
      "16 CPUs\n"
     ]
    }
   ],
   "source": [
    "# Parallelization check, https://emcee.readthedocs.io/en/stable/tutorials/parallel/#parallel\n",
    "\n",
    "from multiprocessing import cpu_count\n",
    "\n",
    "ncpu = cpu_count()\n",
    "print(\"{0} CPUs\".format(ncpu))"
   ]
  },
  {
   "cell_type": "code",
   "execution_count": null,
   "id": "1519499c-df29-4a67-aec0-cbdacff5ca32",
   "metadata": {},
   "outputs": [],
   "source": []
  }
 ],
 "metadata": {
  "kernelspec": {
   "display_name": "Python 3 (ipykernel)",
   "language": "python",
   "name": "python3"
  },
  "language_info": {
   "codemirror_mode": {
    "name": "ipython",
    "version": 3
   },
   "file_extension": ".py",
   "mimetype": "text/x-python",
   "name": "python",
   "nbconvert_exporter": "python",
   "pygments_lexer": "ipython3",
   "version": "3.10.13"
  }
 },
 "nbformat": 4,
 "nbformat_minor": 5
}
