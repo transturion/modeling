{
 "cells": [
  {
   "cell_type": "markdown",
   "id": "05530665-61e8-4206-b84f-42e4e55e8ec7",
   "metadata": {},
   "source": [
    "To model the pharmacokinetics of a multi-dose compartment model, we start by treating the drug administration as Dirac pulses [(Hacisalihzade & Mansour, 1985)](https://www.sciencedirect.com/science/article/pii/002071018590073X)."
   ]
  },
  {
   "cell_type": "markdown",
   "id": "d4311e8a-6942-414d-bfd6-5e836c9f7225",
   "metadata": {},
   "source": [
    "# Pulse-Response\n",
    "\n",
    "Define $u(t)$ as the drug administration function, by modeling the administration of $n$ doses as Dirac pulses, we have $$u(t)=\\sum_{i=1}^nd_i\\delta(t-\\tau_i),$$ where $d_i$ is the reference dose. Further define $y(t)$ the plasma concentration of the drug as a function of $u(t)$, given by the convolution between the drug administration function $u(t)$ and dose-response $D(t)$\n",
    "\n",
    "\\begin{align*}\n",
    "    y(t):=u\\star D(t)&=\\int_0^tu(\\tau)D(t-\\tau)~\\operatorname{d\\tau}\\\\\n",
    "    &=\\int_0^t\\sum_{i=1}^nd_i\\delta(\\tau-\\tau_i)D(t-\\tau)~\\operatorname{d\\tau}\\\\\n",
    "    &=\\sum_{i=1}^nd_i\\int_0^t\\delta(\\tau-\\tau_i)D(t-\\tau)~\\operatorname{d\\tau}\\\\\n",
    "    &=\\sum_{i=1}^nd_iD(t-\\tau_i),\n",
    "\\end{align*}\n",
    "[where](https://discord.com/channels/438306949285806082/438308040446574592/1199919251767697518) $D(t-\\tau_i)$ is the weight of the Dirac pulses $\\delta(t-\\tau_i)$, i.e., $D(t-\\tau_i)$ is the theoretical pulse response and is nothing else but the time history of the drug's blood concentration after a drug administration $u(t)$ at $\\tau_i$."
   ]
  },
  {
   "cell_type": "markdown",
   "id": "7dd88b4f-600c-47de-bd01-934946c40785",
   "metadata": {},
   "source": [
    "# The Multi-Dose 3-Compartment Model\n",
    "\n",
    "The general multi-dose 3-compartment model [is then given by](https://discord.com/channels/438306949285806082/438308040446574592/1199925107221594222)\n",
    "\n",
    "\\begin{align*}\n",
    "    \\dot B(t) &= u(t) - k_1B(t) = \\sum_{i=1}^nd_i\\delta(t-\\tau_i)-k_1B(t), \\\\\n",
    "    \\dot A_{\\rm eff}(t) &= k_1 B(t) - k_2 A_{\\rm eff}(t), \\\\\n",
    "    \\dot E_2(t) &= k_2 A_{\\rm eff}(t) - k_3 E_2(t),\n",
    "\\end{align*}\n",
    "\n",
    "- where $B(t)$ is the diffusion of the drug from depot to blood (previously in the [Single-Dose 3-Compartment model](1_Serum_Estradiol_Single-Dose_3-Compartment.ipynb), we used $D(t)$, but we saw from the fitted model for $100\\rm~\\mu g$ Mylan Estradiol TDP that $D(t=0)$ is [not](https://discord.com/channels/438306949285806082/438308040446574592/1200606417250431107) the dosage since we [left](https://discord.com/channels/438306949285806082/438308040446574592/1200568615255146646) unit conversions to the fitting parameters);\n",
    "- The impulse response (drug administration) is [described](https://discord.com/channels/438306949285806082/438308040446574592/1201305896177901668) by the superposition of Dirac deltas, with $B(t_0)=d_0$ the initial dose (or [equivalently](https://discord.com/channels/438306949285806082/438308040446574592/1201302487886471269) having $d_0\\delta(t-t_0)$ at initial time $t_0$);\n",
    "- $d_i$ is the reference dose at time $t_i$ that we will get out from the fit;\n",
    "- The rest of the terms have the same meaning as before (see the [Single-Dose 3-Compartment model](1_Serum_Estradiol_Single-Dose_3-Compartment.ipynb))."
   ]
  },
  {
   "cell_type": "markdown",
   "id": "0f22ae89-ee59-4f2e-bb1d-f6b3b06a0e74",
   "metadata": {},
   "source": [
    "Under Laplace transform, we find that\n",
    "\n",
    "\\begin{align*}\n",
    "    s\\hat B(s)-B(t_0) &= \\mathcal{L}\\left[u(t)\\right]-k_1\\hat B(s), \\\\\n",
    "    s\\hat A_{\\rm eff}(s)-A_{\\rm eff}(t_0) &= k_1\\hat B(s)-k_2\\hat A_{\\rm eff}(s), \\\\\n",
    "    s\\hat E_2(s)-E_2(t_0) &= k_2\\hat A_{\\rm eff}(s) - k_3\\hat E_2(s),\n",
    "\\end{align*}\n",
    "\n",
    "where $\\mathcal{L}[u(t)]$ is given by\n",
    "\n",
    "\\begin{align*}\n",
    "    \\mathcal{L}\\left[u(t)\\right]&=\\mathcal{L}\\left[\\sum_{i=1}^nd_i\\delta(t-t_i)\\right] \\\\\n",
    "    &=\\mathcal{L}\\left[\\int_0^t\\sum_{i=1}^nd_i\\delta(t-t_i)e^{-st}~\\operatorname{dt}\\right] \\\\\n",
    "    &=\\sum_{i=1}^nd_ie^{-st_i}.\n",
    "\\end{align*}\n",
    "\n",
    "Thus, our multi-dose system in Laplace space is given by\n",
    "\n",
    "\\begin{align*}\n",
    "    (s+k_1)\\hat B(s) &= B(t_0)+\\sum_{i=1}^nd_ie^{-st_i}, \\\\\n",
    "    -k_1\\hat B(s) + (s+k_2)\\hat A_{\\rm eff}(s) &= A_{\\rm eff}(t_0), \\\\\n",
    "    -k_2\\hat A_{\\rm eff}(s) + (s+k_3)\\hat E_2(s) &= E_2(t_0).\n",
    "\\end{align*}\n",
    "\n",
    "Rewriting in matrix notation, we have\n",
    "\n",
    "$$\\begin{bmatrix}s+k_1 & 0 & 0 \\\\ -k_1 & s+k_2 & 0 \\\\ 0 & -k_2 & s+k_3\\end{bmatrix}\\begin{bmatrix}\\hat B(s) \\\\ \\hat A_{\\rm eff}(s) \\\\ \\hat E_2(s)\\end{bmatrix}=\\begin{bmatrix}B(t_0)+\\sum d_ie^{-st_i} \\\\ A_{\\rm eff}(t_0) \\\\ E_2(t_0) \\end{bmatrix}.$$\n",
    "\n",
    "By Cramer's rule, we find the solutions in Laplace space:\n",
    "\n",
    "\\begin{align*}\n",
    "    \\hat B(s)&=\\frac{\\operatorname{det}\\left|\\begin{matrix}B(t_0)+\\sum d_ie^{-st_i} & 0 & 0 \\\\ A_{\\rm eff}(t_0) & s+k_2 & 0 \\\\ E_2(t_0) & -k_2 & s+k_3 \\end{matrix}\\right|}{\\operatorname{det}\\left|\\begin{matrix}s+k_1 & 0 & 0 \\\\ -k_1 & s+k_2 & 0 \\\\ 0 & -k_2 & s+k_3\\end{matrix}\\right|}=\\frac1{s+k_1}\\left[B(t_0)+\\sum_{i=1}^nd_ie^{-st_i}\\right],\\\\ \\\\\n",
    "    \\hat A_{\\rm eff}(s)&=\\frac{\\operatorname{det}\\left|\\begin{matrix}s+k_1 & B(t_0)+\\sum d_ie^{-st_i} & 0 \\\\ -k_1 & A_{\\rm eff}(t_0) & 0 \\\\ 0 & E_2(t_0) & s+k_3 \\end{matrix}\\right|}{\\operatorname{det}\\left|\\begin{matrix}s+k_1 & 0 & 0 \\\\ -k_1 & s+k_2 & 0 \\\\ 0 & -k_2 & s+k_3\\end{matrix}\\right|}=\\frac{k_1B(t_0)}{(s+k_1)(s+k_2)}+\\frac{k_1\\sum d_ie^{-st_i}}{(s+k_1)(s+k_2)}+\\frac{A_{\\rm eff}(t_0)}{s+k_2},\\\\ \\\\\n",
    "    \\hat E_2(s)&=\\frac{\\operatorname{det}\\left|\\begin{matrix}s+k_1 & 0 & B(t_0)+\\sum d_ie^{-st_i} \\\\ -k_1 & s+k_2 & A_{\\rm eff}(t_0) \\\\ 0 & -k_2 & E_2(t_0) \\end{matrix}\\right|}{\\operatorname{det}\\left|\\begin{matrix}s+k_1 & 0 & 0 \\\\ -k_1 & s+k_2 & 0 \\\\ 0 & -k_2 & s+k_3\\end{matrix}\\right|}=\\frac{k_1k_2}{(s+k_1)(s+k_2)(s+k_3)}\\left[B(t_0)+\\sum_{i=1}^n d_ie^{-st_i}\\right]+\\frac{k_2A_{\\rm eff}(t_0)}{(s+k_2)(s+k_3)}+\\frac{E_2(t_0)}{s+k_3}.\n",
    "\\end{align*}"
   ]
  },
  {
   "cell_type": "markdown",
   "id": "b26abd77-ad28-4896-82d2-92945f4b8dde",
   "metadata": {},
   "source": [
    "# Inverse Laplace Transformation by Contour Integration and the Theory of Residues\n",
    "\n",
    "The general method [(Tang-2, Eq 6.124, p. 332)](https://link.springer.com/book/10.1007/978-3-540-30270-4) for taking the inverse Laplace transform of the Laplace space solution $\\hat F(s)$ is by contour integrating $\\hat F(s)\\to\\hat F(z)$ in the complex plane (I'm doing this to \"build character\", as JJE once said to the whole class)\n",
    "\n",
    "\\begin{align*}\n",
    "    \\mathcal{L}^{-1}\\left[\\hat F(s)\\right]&=\\frac1{2\\pi i}\\oint_cF(z)e^{zt}~\\operatorname{dz}\\\\\n",
    "    &=\\sum_j\\operatorname{Res}_{z=z_j}\\left[F(z)e^{zt}\\right],\n",
    "\\end{align*} where $z_j$ is a singularity of $F(z)e^{zt}$ in the complex plane.\n",
    "\n",
    "We can find the residue of $h(z)$ at a simple pole $z_0$ by [(Tang-1, Sect. 3.4.1, p. 141)](https://link.springer.com/book/10.1007/978-3-540-30274-2) $$\\operatorname{Res}_{z=z_0}\\left[g(z)\\right]\\equiv a_{-1}=\\lim_{z\\to z_0}(z-z_0)g(z),$$ where $a_{-1}$ is the $z^{-1}$ term in the Laurent series expansion of $h(z)$ around $z=z_0$."
   ]
  },
  {
   "cell_type": "markdown",
   "id": "bdff40d3-f71b-4725-afd8-98be215d7637",
   "metadata": {},
   "source": [
    "## Solutions\n",
    "\n",
    "### Solution to the Drug Diffusion $B(t)$ into the Bloodstream\n",
    "\n",
    "We start with $B(t)$, where $\\hat B(s)=\\frac1{s+k_1}\\left[B(t_0)+\\sum_{i=1}^nd_ie^{-st_i}\\right]$:\n",
    "\n",
    "\\begin{align*}\n",
    "    B(t)=\\mathcal{L}^{-1}\\left[\\hat B(s)\\right]&=\\frac1{2\\pi i}\\oint_c\\frac1{z+k_1}\\left[B(t_0)+\\sum_{i=1}^nd_ie^{-zt_i}\\right]e^{zt}\\operatorname{dz}\\\\\n",
    "    &=\\frac1{2\\pi i}\\oint_c\\frac1{z+k_1}\\left[B(t_0)e^{zt}+\\sum_{i=1}^nd_ie^{z(t-t_i)}\\right]\\operatorname{dz},\n",
    "\\end{align*} for some appropriately choosen contour $c$ that we are not going to worry about.\n",
    "\n",
    "Here, we have a simple pole at $z=-k_1$. Thus, by the theory of residues, we have\n",
    "\n",
    "\\begin{align*}\n",
    "    \\mathcal{L}^{-1}\\left[\\hat B(s)\\right]&=\\operatorname{Res}_{z=-k_1}\\left\\{\\frac1{z+k_1}\\left[B(t_0)e^{zt}+\\sum_{i=1}^nd_ie^{z(t-t_i)}\\right]\\right\\}\\\\\n",
    "    &=\\lim_{z\\to-k_1}\\left\\{\\cancel{\\frac{z+k_1}{z+k_1}}\\left[B(t_0)e^{zt}+\\sum_{i=1}^nd_ie^{z(t-t_i)}\\right]\\right\\}\\\\\n",
    "    &=B(t_0)e^{-k_1t}+\\sum_{i=1}^nd_ie^{-k_1(t-t_i)}.\n",
    "\\end{align*}\n",
    "\n",
    "The above solution is valid for $t_0=0$ and $t>0$. Because of the summation of $t_i$ where we have Dirac pulses $\\delta(t-t_i)$ , in addition to the [problem](https://discord.com/channels/438306949285806082/438308040446574592/1201917148080111646) that [if](https://discord.com/channels/438306949285806082/438308040446574592/1201993130493358211) $t<0$, $e^{-k_1t}\\to\\infty$, we [thus require](https://discord.com/channels/438306949285806082/438308040446574592/1201299068115243048)\n",
    "\n",
    "\\begin{align*}\n",
    "    B(t)&=\\sum_iB(t_i)H(t-t_i)e^{-k_1(t-t_i)}+\\sum_{i=1}^nd_iH(t-t_i)e^{-k_1(t-t_i)}\\\\\n",
    "    &=\\sum_{i=1}^nD(t_i)H(t-t_i)e^{-k_1(t-t_i)}\n",
    "\\end{align*}\n",
    "\n",
    "where $H(t-t_i)$ is the Heaviside function that [returns](https://discord.com/channels/438306949285806082/1201973466845151362/1201989590488186891) $H(t-t_i)=1$ for $t\\ge t_i$ and $H(t-t_i)=0$ otherwise; $D(t_i)=B(t_i)+d(t_i)$ with $d(t_i)\\equiv d_i$."
   ]
  },
  {
   "cell_type": "markdown",
   "id": "f6f6300d-7890-4e03-ab20-faa7f0584210",
   "metadata": {},
   "source": [
    "### Solution to the Effect Compartment $A_{\\rm eff}(t)$ ([Skin](https://discord.com/channels/438306949285806082/438308040446574592/1201379821607981136) Reservoir)\n",
    "\n",
    "Next for $\\hat A_{\\rm eff}=\\frac{k_1B(t_0)}{(s+k_1)(s+k_2)}+\\frac{k_1\\sum d_ie^{-st_i}}{(s+k_1)(s+k_2)}+\\frac{A_{\\rm eff}(t_0)}{s+k_2}$, the inverse Laplace transform is given by\n",
    "\n",
    "\\begin{align*}\n",
    "    A_{\\rm eff}(t)=\\mathcal{L}^{-1}\\left[\\hat A_{\\rm eff}(s)\\right]&=\\frac1{2\\pi i}\\oint_c\\frac{k_1B(t_0)e^{zt}}{(z+k_1)(z+k_2)}\\operatorname{dz}+\\frac1{2\\pi i}\\oint_c\\frac{k_1\\sum d_ie^{z(t-t_i)}}{(z+k_1)(z+k_2)}\\operatorname{dz}+\\frac1{2\\pi i}\\oint_c\\frac{A_{\\rm eff}(t_0)e^{zt}}{z+k_2}\\operatorname{dz}\\\\\n",
    "    &=\\sum_{j=1}^2\\operatorname{Res}_j\\left[\\frac{k_1B(t_0)e^{zt}}{(z+k_1)(z+k_2)}\\right]+\\sum_{j=1}^2\\operatorname{Res}_j\\left[\\frac{k_1\\sum d_ie^{z(t-t_i)}}{(z+k_1)(z+k_2)}\\right]+\\operatorname{Res}_{z=-k_2}\\left[\\frac{A_{\\rm eff}(t_0)e^{zt}}{z+k_2}\\right]\\\\\n",
    "    &=\\lim_{z\\to-k_1}\\cancel{(z+k_1)}\\left[\\frac{k_1B(t_0)e^{zt}}{\\cancel{(z+k_1)}(z+k_2)}\\right]+\\lim_{z\\to-k_2}\\cancel{(z+k_2)}\\left[\\frac{k_1B(t_0)e^{zt}}{(z+k_1)\\cancel{(z+k_2)}}\\right]\\\\\n",
    "    &~~~~+\\lim_{z\\to-k_1}\\cancel{(z+k_1)}\\left[\\frac{k_1\\sum d_ie^{z(t-t_i)}}{\\cancel{(z+k_1)}(z+k_2)}\\right]+\\lim_{z\\to-k_2}\\cancel{(z+k_2)}\\left[\\frac{k_1\\sum d_ie^{z(t-t_i)}}{(z+k_1)\\cancel{(z+k_2)}}\\right]\\\\\n",
    "    &~~~~+\\lim_{z\\to-k_2}\\cancel{(z+k_2)}\\left[\\frac{A_{\\rm eff}(t_0)e^{zt}}{\\cancel{z+k_2}}\\right]\\\\\n",
    "    &=\\frac{k_1B(t_0)}{(-k_1+k_2)}e^{-k_1t}+\\frac{k_1B(t_0)}{(k_1-k_2)}e^{-k_2t}+\\frac{k_1\\sum d_iH(t-t_i)}{-k_1+k_2}e^{-k_1(t-t_i)}+\\frac{k_1\\sum d_iH(t-t_i)}{k_1-k_2}e^{-k_2(t-t_i)}+A_{\\rm eff}(t_0)e^{-k_2t}\\\\\n",
    "    &=-\\frac{k_1B(t_0)}{k_1-k_2}e^{-k_1t}+\\frac{k_1B(t_0)}{k_1-k_2}e^{-k_2t}-\\frac{k_1\\sum d_iH(t-t_i)}{k_1-k_2}e^{-k_1(t-t_i)}+\\frac{k_1\\sum d_iH(t-t_i)}{k_1-k_2}e^{-k_2(t-t_i)}+A_{\\rm eff}(t_0)e^{-k_2t}\\\\\n",
    "    &=\\frac{k_1B(t_0)}{k_1-k_2}\\left[-e^{-k_1t}+e^{-k_2t}\\right]+\\frac{k_1\\sum d_iH(t-t_i)}{k_1-k_2}\\left[-e^{-k_1(t-t_i)}+e^{-k_2(t-t_i)}\\right]+A_{\\rm eff}(t_0)e^{-k_2t}.\n",
    "\\end{align*}"
   ]
  },
  {
   "cell_type": "markdown",
   "id": "273e601f-5c51-41d9-a30f-28666dc10474",
   "metadata": {},
   "source": [
    "Again, the above is true for $t_0=0$ and $t>0$. In general, we have\n",
    "\n",
    "\\begin{align*}\n",
    "    A_{\\rm eff}(t)&=\\frac{k_1}{k_1-k_2}\\sum_{i=1}^n B(t_i)H(t-t_i)\\left[-e^{-k_1(t-t_i)}+e^{-k_2(t-t_i)}\\right]\\\\\n",
    "    &~~~~+\\frac{k_1}{k_1-k_2}\\sum d_iH(t-t_i)\\left[-e^{-k_1(t-t_i)}+e^{-k_2(t-t_i)}\\right]\\\\\n",
    "    &~~~~+\\sum_{i=1}^nA_{\\rm eff}(t_i)H(t-t_i)e^{-k_2(t-t_i)}\\\\\n",
    "    &=\\frac{k_1}{k_1-k_2}\\sum_{i=1}^n D(t_i)H(t-t_i)\\left[-e^{-k_1(t-t_i)}+e^{-k_2(t-t_i)}\\right]+\\sum_{i=1}^nA_{\\rm eff}(t_i)H(t-t_i)e^{-k_2(t-t_i)}.\n",
    "\\end{align*}"
   ]
  },
  {
   "cell_type": "markdown",
   "id": "435492a9-6a6c-4e5b-a04e-7da26639b672",
   "metadata": {},
   "source": [
    "### Solution to Serum Estradiol $E_2(t)$\n",
    "\n",
    "Finally for $\\hat E_2(s)=\\frac{k_1k_2}{(s+k_1)(s+k_2)(s+k_3)}\\left[B(t_0)+\\sum_{i=1}^n d_ie^{-st_i}\\right]+\\frac{k_2A_{\\rm eff}(t_0)}{(s+k_2)(s+k_3)}+\\frac{E_2(t_0)}{s+k_3}$ where we have the inverse Laplace transform via contour integration\n",
    "\n",
    "\\begin{align*}\n",
    "    E_2(t)=\\mathcal{L}^{-1}\\left[\\hat E_2(s)\\right]&=\\frac1{2\\pi i}\\oint_c\\frac{k_1k_2}{(z+k_1)(z+k_2)(z+k_3)}\\left[B(t_0)e^{zt}+\\sum_{i=1}^n d_ie^{z(t-t_i)}\\right]\\\\\n",
    "    &~~~~+\\frac1{2\\pi i}\\oint_c\\frac{k_2A_{\\rm eff}(t_0)e^{zt}\\operatorname{dz}}{(z+k_2)(z+k_3)}+\\frac1{2\\pi i}\\oint_c\\frac{E_2(t_0)e^{zt}}{z+k_3}\\operatorname{dz}\\\\\n",
    "    &=\\sum_{j=1}^3\\operatorname{Res}_{z=-k_j}\\left[\\frac{k_1k_2B(t_0)e^{zt}}{(z+k_1)(z+k_2)(z+k_3)}+\\frac{k_1k_2\\sum d_ie^{z(t-t_i)}}{(z+k_1)(z+k_2)(z+k_3)}\\right]\\\\\n",
    "    &~~~~+\\sum_{j=2}^3\\operatorname{Res}_{z=-k_j}\\left[\\frac{k_2A_{\\rm eff}(t_0)e^{zt}}{(z+k_2)(z+k_3)}\\right]+\\operatorname{Res}_{z=-k_3}\\left[\\frac{E_2(t_0)e^{zt}}{z+k_3}\\right]\\\\\n",
    "    &=\\lim_{z\\to-k_1}\\left[\\frac{k_1k_2B(t_0)e^{zt}}{(z+k_2)(z+k_3)}+\\frac{k_1k_2\\sum d_ie^{z(t-t_i)}}{(z+k_2)(z+k_3)}\\right]+\\lim_{z\\to-k_2}\\left[\\frac{k_1k_2B(t_0)e^{zt}}{(z+k_1)(z+k_3)}+\\frac{k_1k_2\\sum d_ie^{z(t-t_i)}}{(z+k_1)(z+k_3)}\\right]+\\lim_{z\\to-k_3}\\left[\\frac{k_1k_2B(t_0)e^{zt}}{(z+k_1)(z+k_2)}+\\frac{k_1k_2\\sum d_ie^{z(t-t_i)}}{(z+k_1)(z+k_2)}\\right]\\\\\n",
    "    &~~~~+\\lim_{z\\to-k_2}\\left[\\frac{k_2A_{\\rm eff}(t_0)e^{zt}}{(z+k_3)}\\right]+\\lim_{z\\to-k_3}\\left[\\frac{k_2A_{\\rm eff}(t_0)e^{zt}}{(z+k_2)}\\right]+\\lim_{z\\to-k_3}E_2(t_0)e^{zt}\\\\\n",
    "    &=k_1k_2B(t_0)\\left[\\frac{e^{-k_1t}}{(k_1-k_2)(k_1-k_3)} - \\frac{e^{-k_2t}}{(k_1-k_2)(k_2-k_3)} + \\frac{e^{-k_3t}}{(k_1-k_3)(k_2-k_3)}\\right]\\\\\n",
    "    &~~~~+k_1k_2\\sum_{i=1}^nd_iH(t-t_i)\\left[\\frac{e^{-k_1(t-t_i)}}{(k_1-k_2)(k_1-k_3)} - \\frac{e^{-k_2(t-t_i)}}{(k_1-k_2)(k_2-k_3)} + \\frac{e^{-k_3(t-t_i)}}{(k_1-k_3)(k_2-k_3)}\\right]\\\\\n",
    "    &~~~~+\\frac{k_2A_{\\rm eff}(t_0)}{k_2-k_3}\\left[-e^{-k_2t}+e^{-k_3t}\\right]+E_2(t_0)e^{-k_3t}.\n",
    "\\end{align*}"
   ]
  },
  {
   "cell_type": "markdown",
   "id": "76e6d392-463b-4eb0-b9bf-afa070b0b293",
   "metadata": {},
   "source": [
    "Again, the above form is valid for $t_0=0$ and $t>0$. More [generally](https://discord.com/channels/438306949285806082/1201973466845151362/1201990605597581312), we have\n",
    "\n",
    "\\begin{align*}\n",
    "    E_2(t)&=k_1k_2\\sum_{i=1}^nD(t_i)H(t-t_i)\\left[\\frac{e^{-k_1(t-t_i)}}{(k_1-k_2)(k_1-k_3)} - \\frac{e^{-k_2(t-t_i)}}{(k_1-k_2)(k_2-k_3)} + \\frac{e^{-k_3(t-t_i)}}{(k_1-k_3)(k_2-k_3)}\\right]\\\\\n",
    "    &~~~~+\\frac{k_2}{k_2-k_3}\\sum_{i=1}^nA_{\\rm eff}(t_i)H(t-t_i)\\left[-e^{-k_2(t-t_i)}+e^{-k_3(t-t_i)}\\right]+\\sum_{i=1}^nE_2(t_i)H(t-t_i)e^{-k_3(t-t_i)},\n",
    "\\end{align*}\n",
    "\n",
    "where $D(t_i)=B(t_i)+d_i$ and $d_i\\equiv d(t_i)$."
   ]
  },
  {
   "cell_type": "markdown",
   "id": "59e17fcc-51f2-4224-8f06-4f6594742bbb",
   "metadata": {},
   "source": [
    "# Bayesian Inference via Markov Chain Monte Carlo Sampling"
   ]
  },
  {
   "cell_type": "code",
   "execution_count": 2,
   "id": "b3387fca-3e25-4f12-896a-789c58ada37a",
   "metadata": {},
   "outputs": [],
   "source": [
    "import numpy as np\n",
    "import matplotlib.pyplot as plt\n",
    "\n",
    "from lmfit import Model\n",
    "#from scipy.optimize import curve_fit    # least squares method won't give a good fit\n",
    "import lmfit\n",
    "\n",
    "# maximum likelihood fitting via mcmc\n",
    "# https://stackoverflow.com/questions/77496325/how-to-do-an-mcmc-fitting-using-only-a-subset-of-variables-of-a-function\n",
    "from scipy.stats import norm    # ln(Gaussian) will be our likelihood function\n",
    "import emcee\n",
    "import corner"
   ]
  },
  {
   "cell_type": "code",
   "execution_count": 3,
   "id": "3c1f1d39-7d20-4029-b20a-440a3238a748",
   "metadata": {},
   "outputs": [],
   "source": [
    "# import and visualize data\n",
    "\n",
    "MylanTDPDays100 = np.genfromtxt('Data/DailyMed_MylanTDP_n36/MylanTDP_n36_100mcg.csv', delimiter=',', skip_header=True)\n",
    "MylanTDPDays50 = np.genfromtxt('Data/DailyMed_MylanTDP_n36/MylanTDP_n36_50mcg.csv', delimiter=',', skip_header=True)\n",
    "MylanTDPDays25 = np.genfromtxt('Data/DailyMed_MylanTDP_n36/MylanTDP_n36_25mcg.csv', delimiter=',', skip_header=True)\n",
    "\n",
    "H2003aN30Estradot100 = np.genfromtxt('Data/Hossain2003a_Estradot_n30/H2003a_Estradot_n30_100mcg.csv', delimiter=',', skip_header=True)\n",
    "H2003aN30Estradot50 = np.genfromtxt('Data/Hossain2003a_Estradot_n30/H2003a_Estradot_n30_50mcg.csv', delimiter=',', skip_header=True)\n",
    "H2003aN30Estradot37_5 = np.genfromtxt('Data/Hossain2003a_Estradot_n30/H2003a_Estradot_n30_37.5mcg.csv', delimiter=',', skip_header=True)\n",
    "H2003aN30Estradot25 = np.genfromtxt('Data/Hossain2003a_Estradot_n30/H2003a_Estradot_n30_25mcg.csv', delimiter=',', skip_header=True)\n",
    "\n",
    "H2003bN11Estradot100 = np.genfromtxt('Data/Hossain2003b_Estradot_n11/H2003b_Estradot_n11_100mcg.csv', delimiter=',', skip_header=True)\n",
    "H2003bN11Estradot50 = np.genfromtxt('Data/Hossain2003b_Estradot_n11/H2003b_Estradot_n11_50mcg.csv', delimiter=',', skip_header=True)\n",
    "\n",
    "# exclude n = 30 study from H2003b due to the initial measurement being higher than the second measurement\n",
    "#H2003bN30Estradot50 = np.genfromtxt('Data/Hossain2003b_Estradot_n30/H2003b_Estradot_n30_50mcg.csv', delimiter=',', skip_header=True)"
   ]
  },
  {
   "cell_type": "code",
   "execution_count": 4,
   "id": "c3ba7b70-bdb8-4557-8244-2a816a56a44d",
   "metadata": {},
   "outputs": [],
   "source": [
    "# convert Mylan data from days to hrs, Estradot data is already in hrs\n",
    "# https://stackoverflow.com/questions/10394659/how-to-add-a-calculated-computed-column-in-numpy\n",
    "\n",
    "MylanTDP100 = np.vstack((MylanTDPDays100[:,0]*24, MylanTDPDays100[:,1])).T\n",
    "MylanTDP50 = np.vstack((MylanTDPDays50[:,0]*24, MylanTDPDays50[:,1])).T\n",
    "MylanTDP25 = np.vstack((MylanTDPDays25[:,0]*24, MylanTDPDays25[:,1])).T"
   ]
  },
  {
   "cell_type": "raw",
   "id": "c652daa4-cc5f-478a-863c-b5da1f78ca07",
   "metadata": {},
   "source": [
    "# https://stackoverflow.com/questions/8287047/writing-functions-that-accept-both-1-d-and-2-d-numpy-arrays\n",
    "\n",
    "# d(t_0)\\equiv d_i term\n",
    "\n",
    "def E2DoseMulti(t, ti, di, k1, k2, k3):\n",
    "    summation = 0\n",
    "    for i in range(np.size(ti)):\n",
    "        innerFunc1 = np.exp(-k1 * (t - ti[i])) / ((k1 - k2) * (k1 - k3))\n",
    "        innerFunc2 = np.exp(-k2 * (t - ti[i])) / ((k1 - k2) * (k2 - k3))\n",
    "        innerFunc3 = np.exp(-k3 * (t - ti[i])) / ((k1 - k3) * (k2 - k3))\n",
    "        summation += di[i] * np.heaviside(t-ti[i], 1) * (innerFunc1 - innerFunc2 + innerFunc3)\n",
    "    return k1 * k2 * summation\n",
    "\n",
    "# A_{\\rm eff}(t_0) term\n",
    "\n",
    "def AEffMulti(t, ti, Aeffi, k2, k3):\n",
    "    summationEff = 0\n",
    "    for i in range(np.size(ti)):\n",
    "        innerFunc1Eff = np.exp(-k2 * (t - ti[i]))\n",
    "        innerFunc2Eff = np.exp(-k3 * (t - ti[i]))\n",
    "        summationEff += Aeffi[i] * np.heaviside(t-ti[i], 1) * (-innerFunc1Eff + innerFunc2Eff)\n",
    "    return k2 * summationEff / (k2 - k3)\n",
    "\n",
    "# E2(t_0) term\n",
    "\n",
    "def E2Multi(t, ti, E2i, k3):\n",
    "    summationE2 = 0\n",
    "    for i in range(np.size(ti)):\n",
    "        summationE2 += E2i[i] * np.heaviside(t-ti[i], 1) * np.exp(-k3 * (t - ti[i]))\n",
    "    return summationE2\n",
    "\n",
    "def E2FullMulti(t, ti, di, Aeffi, E2i, k1, k2, k3):\n",
    "    return E2DoseMulti(t, ti, di, k1, k2, k3) + AEffMulti(t, ti, Aeffi, k2, k3) + E2Multi(t, ti, E2i, k3)"
   ]
  },
  {
   "cell_type": "raw",
   "id": "b043bd7a-a023-4486-981d-c46fba8c99b9",
   "metadata": {},
   "source": [
    "E2FullMulti(10,(0,3),(100,100),(0,0),(3,3),0.5,2,0.3)"
   ]
  },
  {
   "cell_type": "code",
   "execution_count": 5,
   "id": "5efff422-ba07-44af-81bc-a90969e48300",
   "metadata": {},
   "outputs": [],
   "source": [
    "# fitting using single-dose model\n",
    "\n",
    "def E2Dose(t, d0, k1, k2, k3):\n",
    "    summation = 0\n",
    "    innerFunc1 = np.exp(-k1 * t) / ((k1 - k2) * (k1 - k3))\n",
    "    innerFunc2 = np.exp(-k2 * t) / ((k1 - k2) * (k2 - k3))\n",
    "    innerFunc3 = np.exp(-k3 * t) / ((k1 - k3) * (k2 - k3))\n",
    "    summation = d0 * (innerFunc1 - innerFunc2 + innerFunc3)\n",
    "    return k1 * k2 * summation\n",
    "\n",
    "# A_{\\rm eff}(t_0) term\n",
    "\n",
    "def AEff(t, Aeff0, k2, k3):\n",
    "    summationEff = 0\n",
    "    innerFunc1Eff = np.exp(-k2 * t)\n",
    "    innerFunc2Eff = np.exp(-k3 * t)\n",
    "    summationEff = Aeff0 *(-innerFunc1Eff + innerFunc2Eff)\n",
    "    return k2 * summationEff / (k2 - k3)\n",
    "\n",
    "# E2(t_0) term\n",
    "\n",
    "def E2(t, E20, k3):\n",
    "    return E20 * np.exp(-k3 * t)\n",
    "\n",
    "def E2Full(t, d0, Aeff0, E20, k1, k2, k3):\n",
    "    return E2Dose(t, d0, k1, k2, k3) + AEff(t, Aeff0, k2, k3) + E2(t, E20, k3)"
   ]
  },
  {
   "cell_type": "code",
   "execution_count": 41,
   "id": "a1a91aac-220f-498c-a1d8-88437cce9422",
   "metadata": {},
   "outputs": [
    {
     "name": "stdout",
     "output_type": "stream",
     "text": [
      "parameter names: ['d0', 'Aeff0', 'E20', 'k1', 'k2', 'k3']\n",
      "independent variables: ['t']\n"
     ]
    }
   ],
   "source": [
    "Mylan100Model = Model(E2Full)\n",
    "print(f'parameter names: {Mylan100Model.param_names}')\n",
    "print(f'independent variables: {Mylan100Model.independent_vars}')"
   ]
  },
  {
   "cell_type": "code",
   "execution_count": 7,
   "id": "121a38c0-928a-47f1-86d6-ea5bb7879072",
   "metadata": {},
   "outputs": [],
   "source": [
    "# k_i can be greater than 1, from the likelihood surface using emcee in the single-dose model\n",
    "\n",
    "Mylan100Params = Mylan100Model.make_params(d0=dict(value=100,min=0,max=250),\n",
    "                                           Aeff0=dict(value=0,min=0,max=50),\n",
    "                                           E20=dict(value=MylanTDP100[:,1][0],min=0,max=50),\n",
    "                                           k1=dict(value=1/(100/24),min=0,max=10),\n",
    "                                           k2=dict(value=2,min=0,max=10),\n",
    "                                           k3=dict(value=1/37,min=0,max=10))\n",
    "#Mylan100Model.set_param_hint('ti', vary=False)\n",
    "\n",
    "# need some extra help from lmfit to make theta usable with mcmc\n",
    "Mylan100Fit = Mylan100Model.fit(data=MylanTDP100[:,1], params=Mylan100Params, t=MylanTDP100[:,0])"
   ]
  },
  {
   "cell_type": "raw",
   "id": "a503aea1-2ad7-4dc0-8f11-f7f514274f14",
   "metadata": {},
   "source": [
    "plt.plot(MylanTDP100[:,0], MylanTDP100[:,1], 'o')\n",
    "plt.plot(MylanTDP100[:,0], Mylan100Fit.init_fit, '--', label='initial fit')\n",
    "plt.plot(MylanTDP100[:,0], Mylan100Fit.best_fit, '-', label='best fit')\n",
    "plt.xlabel('Time (hrs)')\n",
    "plt.ylabel('Serum Estradiol (pg/mL)')\n",
    "plt.legend()\n",
    "plt.show()\n",
    "\n",
    "print(Mylan100Fit.fit_report())\n",
    "#print(Mylan100Fit.ci_report())"
   ]
  },
  {
   "cell_type": "code",
   "execution_count": 8,
   "id": "dc6592b2-1231-4156-934b-c58448fe5edf",
   "metadata": {},
   "outputs": [],
   "source": [
    "# https://lmfit.github.io/lmfit-py/examples/example_emcee_Model_interface.html\n",
    "# burn means it's discarding the first 500 iterations/samples, and ...\n",
    "# ... thin means its keeping every 20th sample, i.e. (10,000 - 500)/20 = 475, ...\n",
    "# ... from result_emcee.lnprob.shape: (475, 100)\n",
    "# see https://lmfit.github.io/lmfit-py/fitting.html#lmfit.minimizer.Minimizer.emcee\n",
    "\n",
    "emcee_kws = dict(steps=50000, burn=500, thin=20, is_weighted=False)\n",
    "emcee_params = Mylan100Fit.params.copy()\n",
    "\n",
    "# __lnsigma is the log of the standard deviation, here ~50 to 100, https://discord.com/channels/438306949285806082/438308040446574592/1200639243274440735\n",
    "# __lnsigma characterizes the width/average error between the curves and the datapoints\n",
    "# here, they also used the log trick to enforce the constraint that the standard deviation sigma should always be greater than 0\n",
    "# it's the sigma in the gaussian model sum over datapoints (xi, ti)  exp(-1/2(xi - e2(ti, D0, k1, k2, k3))^2/sigma^2)/sqrt(2pi sigma^2)\n",
    "# and they parametrize sigma = exp(__lnsigma)\n",
    "# so a large sigma is more permissive in terms of the square error (xi - e2)^2, it penalizes large difference between the datapoint and the curve less.\n",
    "\n",
    "emcee_params.add('__lnsigma', value=np.log(0.1), min=np.log(0.001), max=np.log(50))"
   ]
  },
  {
   "cell_type": "code",
   "execution_count": 9,
   "id": "325c2ad0-0905-49d2-ae24-69601c14fccd",
   "metadata": {},
   "outputs": [
    {
     "name": "stderr",
     "output_type": "stream",
     "text": [
      "100%|█████████████████████████████████████| 50000/50000 [08:36<00:00, 96.78it/s]\n"
     ]
    },
    {
     "name": "stdout",
     "output_type": "stream",
     "text": [
      "The chain is shorter than 50 times the integrated autocorrelation time for 3 parameter(s). Use this estimate with caution and run a longer chain!\n",
      "N/50 = 1000;\n",
      "tau: [ 597.05930214 1182.27620412  586.17409826 1114.76290013 2254.65994037\n",
      "  638.18174984  305.06266401]\n"
     ]
    }
   ],
   "source": [
    "result_emcee = Mylan100Model.fit(data=MylanTDP100[:,1], t=MylanTDP100[:,0],\n",
    "                                 params=emcee_params, method='emcee',\n",
    "                                 nan_policy='omit', fit_kws=emcee_kws)"
   ]
  },
  {
   "cell_type": "code",
   "execution_count": 10,
   "id": "847c22b1-47a5-43f5-85a6-32802536e0da",
   "metadata": {},
   "outputs": [
    {
     "data": {
      "text/plain": [
       "<matplotlib.legend.Legend at 0x7f5eeb247550>"
      ]
     },
     "execution_count": 10,
     "metadata": {},
     "output_type": "execute_result"
    },
    {
     "data": {
      "image/png": "[encoded data removed]",
      "text/plain": [
       "<Figure size 640x480 with 1 Axes>"
      ]
     },
     "metadata": {},
     "output_type": "display_data"
    }
   ],
   "source": [
    "result_emcee.plot_fit()\n",
    "plt.plot(MylanTDP100[:,0], Mylan100Model.eval(params=result_emcee.params, t=MylanTDP100[:,0]), '--', label='Nelder')\n",
    "plt.legend()"
   ]
  },
  {
   "cell_type": "code",
   "execution_count": 11,
   "id": "3dcd774b-c241-4a85-a159-f9b193c475f3",
   "metadata": {},
   "outputs": [
    {
     "name": "stdout",
     "output_type": "stream",
     "text": [
      "[[Fit Statistics]]\n",
      "    # fitting method   = emcee\n",
      "    # function evals   = 5000000\n",
      "    # data points      = 18\n",
      "    # variables        = 7\n",
      "    chi-square         = 12.4784194\n",
      "    reduced chi-square = 1.13440176\n",
      "    Akaike info crit   = 7.40532103\n",
      "    Bayesian info crit = 13.6379233\n",
      "    R-squared          = 0.99944946\n",
      "[[Variables]]\n",
      "    d0:         202.666154 +/- 34.8260015 (17.18%) (init = 215.7991)\n",
      "    Aeff0:      21.9727260 +/- 17.8558222 (81.26%) (init = 0.3926588)\n",
      "    E20:        3.04314183 +/- 3.40992752 (112.05%) (init = 1.305919e-05)\n",
      "    k1:         0.74543776 +/- 2.08214043 (279.32%) (init = 0.07602245)\n",
      "    k2:         0.06852514 +/- 0.10964632 (160.01%) (init = 0.6036058)\n",
      "    k3:         0.03494461 +/- 0.00577683 (16.53%) (init = 0.0327983)\n",
      "    __lnsigma:  2.21813236 +/- 0.21197506 (9.56%) (init = -2.302585)\n",
      "[[Correlations]] (unreported correlations are < 0.100)\n",
      "    C(k3, __lnsigma)  = +0.4933\n",
      "    C(k2, __lnsigma)  = +0.4362\n",
      "    C(d0, __lnsigma)  = -0.4352\n",
      "    C(d0, k2)         = -0.2738\n",
      "    C(E20, __lnsigma) = +0.2436\n",
      "    C(k1, __lnsigma)  = +0.2332\n",
      "    C(Aeff0, k1)      = +0.2086\n",
      "    C(Aeff0, k2)      = -0.1942\n",
      "    C(d0, Aeff0)      = -0.1856\n",
      "    C(d0, E20)        = -0.1553\n",
      "    C(k2, k3)         = +0.1548\n",
      "    C(d0, k3)         = -0.1301\n"
     ]
    }
   ],
   "source": [
    "lmfit.report_fit(result_emcee)\n",
    "#emcee_corner = corner.corner(result_emcee.flatchain, labels=result_emcee.var_names,\n",
    "#                             truths=list(result_emcee.params.valuesdict().values()))"
   ]
  },
  {
   "cell_type": "code",
   "execution_count": 12,
   "id": "40f0743c-de7a-4713-9063-c526f153c66a",
   "metadata": {},
   "outputs": [
    {
     "name": "stdout",
     "output_type": "stream",
     "text": [
      "\n",
      "Maximum Likelihood Estimation (MLE):\n",
      "----------------------------------\n",
      "d0: 234.048\n",
      "Aeff0: 0.526\n",
      "E20: 0.153\n",
      "k1: 0.639\n",
      "k2: 0.068\n",
      "k3: 0.035\n",
      "__lnsigma: 1.983\n"
     ]
    },
    {
     "data": {
      "text/html": [
       "<table class=\"jp-toc-ignore\"><caption>Parameters</caption><tr><th style='text-align:left'>name</th><th style='text-align:left'>value</th><th style='text-align:left'>standard error</th><th style='text-align:left'>relative error</th><th style='text-align:left'>initial value</th><th style='text-align:left'>min</th><th style='text-align:left'>max</th><th style='text-align:right'>vary</th></tr><tr><td style='text-align:left'>d0</td><td style='text-align:left'> 215.799053</td><td style='text-align:left'> 79.4641751</td><td style='text-align:left'>(36.82%)</td><td style='text-align:left'>100</td><td style='text-align:left'> 0.00000000</td><td style='text-align:left'> 250.000000</td><td style='text-align:right'>True</td></tr><tr><td style='text-align:left'>Aeff0</td><td style='text-align:left'> 0.39265884</td><td style='text-align:left'> 430.029595</td><td style='text-align:left'>(109517.36%)</td><td style='text-align:left'>0</td><td style='text-align:left'> 0.00000000</td><td style='text-align:left'> 50.0000000</td><td style='text-align:right'>True</td></tr><tr><td style='text-align:left'>E20</td><td style='text-align:left'> 1.3059e-05</td><td style='text-align:left'> 8.80910320</td><td style='text-align:left'>(67455178.67%)</td><td style='text-align:left'>3.4129692832764533</td><td style='text-align:left'> 0.00000000</td><td style='text-align:left'> 50.0000000</td><td style='text-align:right'>True</td></tr><tr><td style='text-align:left'>k1</td><td style='text-align:left'> 0.07602245</td><td style='text-align:left'> 0.04052556</td><td style='text-align:left'>(53.31%)</td><td style='text-align:left'>0.24</td><td style='text-align:left'> 0.00000000</td><td style='text-align:left'> 10.0000000</td><td style='text-align:right'>True</td></tr><tr><td style='text-align:left'>k2</td><td style='text-align:left'> 0.60360578</td><td style='text-align:left'> 1.36583333</td><td style='text-align:left'>(226.28%)</td><td style='text-align:left'>2</td><td style='text-align:left'> 0.00000000</td><td style='text-align:left'> 10.0000000</td><td style='text-align:right'>True</td></tr><tr><td style='text-align:left'>k3</td><td style='text-align:left'> 0.03279830</td><td style='text-align:left'> 0.00916477</td><td style='text-align:left'>(27.94%)</td><td style='text-align:left'>0.02702702702702703</td><td style='text-align:left'> 0.00000000</td><td style='text-align:left'> 10.0000000</td><td style='text-align:right'>True</td></tr><tr><td style='text-align:left'>__lnsigma</td><td style='text-align:left'>-2.30258509</td><td style='text-align:left'></td><td style='text-align:left'></td><td style='text-align:left'>-2.3025850929940455</td><td style='text-align:left'>-6.90775528</td><td style='text-align:left'> 3.91202301</td><td style='text-align:right'>True</td></tr></table>"
      ],
      "text/plain": [
       "Parameters([('d0', <Parameter 'd0', value=215.79905284916373 +/- 79.5, bounds=[0:250]>), ('Aeff0', <Parameter 'Aeff0', value=0.39265884488287883 +/- 430, bounds=[0:50]>), ('E20', <Parameter 'E20', value=1.305919481719986e-05 +/- 8.81, bounds=[0:50]>), ('k1', <Parameter 'k1', value=0.07602244653693913 +/- 0.0405, bounds=[0:10]>), ('k2', <Parameter 'k2', value=0.6036057798487221 +/- 1.37, bounds=[0:10]>), ('k3', <Parameter 'k3', value=0.0327982959375589 +/- 0.00916, bounds=[0:10]>), ('__lnsigma', <Parameter '__lnsigma', value=-2.3025850929940455, bounds=[-6.907755278982137:3.912023005428146]>)])"
      ]
     },
     "execution_count": 12,
     "metadata": {},
     "output_type": "execute_result"
    }
   ],
   "source": [
    "highest_prob = np.argmax(result_emcee.lnprob)\n",
    "hp_loc = np.unravel_index(highest_prob, result_emcee.lnprob.shape)\n",
    "mle_soln = result_emcee.chain[hp_loc]\n",
    "print(\"\\nMaximum Likelihood Estimation (MLE):\")\n",
    "print('----------------------------------')\n",
    "for ix, param in enumerate(emcee_params):\n",
    "    if ix<7:\n",
    "        print(f\"{param}: {mle_soln[ix]:.3f}\")\n",
    "    else:\n",
    "        pass\n",
    "\n",
    "emcee_params"
   ]
  },
  {
   "cell_type": "code",
   "execution_count": 13,
   "id": "b83e7a6b-477e-4da6-8790-7fb660af9f30",
   "metadata": {},
   "outputs": [
    {
     "data": {
      "image/png": "[encoded data removed]",
      "text/plain": [
       "<Figure size 640x480 with 1 Axes>"
      ]
     },
     "metadata": {},
     "output_type": "display_data"
    }
   ],
   "source": [
    "inds = np.random.randint(len(result_emcee.flatchain), size=100)\n",
    "\n",
    "for ind in inds:\n",
    "    sample = (result_emcee.flatchain[\"d0\"][ind], result_emcee.flatchain[\"Aeff0\"][ind],\n",
    "              result_emcee.flatchain[\"E20\"][ind], result_emcee.flatchain[\"k1\"][ind],\n",
    "              result_emcee.flatchain[\"k2\"][ind], result_emcee.flatchain[\"k3\"][ind])\n",
    "    plt.plot(MylanTDP100[:,0], E2Dose(MylanTDP100[:,0], sample[0], sample[1], sample[2], sample[3]), alpha=0.1, color='#4EC2F8')\n",
    "plt.plot(MylanTDP100[:,0], E2Dose(MylanTDP100[:,0], sample[0], sample[1], sample[2], sample[3]), alpha=0.1, color='#4EC2F8', label='Sampled MCMC Fits')\n",
    "plt.scatter(MylanTDP100[:,0], MylanTDP100[:,1], color='#F096AA', marker='s', label=\"Mylan TDP, 100 $\\\\rm\\\\mu g$/day ($n=36$)\")\n",
    "plt.plot(MylanTDP100[:,0], result_emcee.best_fit, label='MCMC Best-Fit (MLE)', color='#672F8B', marker='o')\n",
    "plt.xlabel('Time (hrs)')\n",
    "plt.ylabel('Serum Estradiol (pg/mL)')\n",
    "plt.legend()\n",
    "plt.show()"
   ]
  },
  {
   "cell_type": "markdown",
   "id": "177faeef-c96b-4ba8-b2d6-2c53abbd4e71",
   "metadata": {},
   "source": [
    "The full multi-dose model seems to have overcomplicated a few things. Would an explicit prior make the MCMC move better?"
   ]
  },
  {
   "cell_type": "code",
   "execution_count": 14,
   "id": "c492b9d9-fd38-4e33-8fdd-d5ad98b6386b",
   "metadata": {},
   "outputs": [],
   "source": [
    "# https://github.com/obscode/FlyingCircus/blob/master/MoreNotebooks/ModelFitting/Emcee.ipynb\n",
    "# https://prappleizer.github.io/Tutorials/MCMC/MCMC_Tutorial_Solution.html"
   ]
  },
  {
   "cell_type": "markdown",
   "id": "4b8400e0-dfe1-43e7-89db-89fbeec810c1",
   "metadata": {},
   "source": [
    "## Bayes’ Rule\n",
    "\n",
    "Denote the parameters of interest as $\\theta$ (generally a vector) and let $y$ be the observed data (again a vector with each unit $i$ given by $y_i$), then Bayes’ rule gives us $$p(\\theta,y)=p(\\theta)\\cdot p(y|\\theta),$$ where $p(\\theta)$ is the prior distribution that depends on our knowledge of the parameters $\\theta$; $p(y|\\theta)$ is the likelihood function, which is a function of $\\theta$ that tells us the chance of obtaining the observation $y$ and, in general, is not a distribution.\n",
    "\n",
    "The posterior distribution (density) $p(\\theta|y)$ is then given by $$p(\\theta|y)=\\frac{p(\\theta,y)}{p(y)}=\\frac{p(\\theta)\\cdot p(y|\\theta)}{p(y)},$$ which is the normalized $p(\\theta,y)$ that gives us the probability interpretation.\n",
    "\n",
    "`emcee` takes in the natural log of $p(\\theta,y)$, so we will use $$\\ln[p(\\theta|y)]\\propto\\ln[p(\\theta)\\cdot p(y|\\theta)],$$ where we will [ignore](https://stats.stackexchange.com/questions/85465/theoretically-why-do-we-not-need-to-compute-a-marginal-distribution-constant-fo) the marginal (or prior predictive, [Bayesian Data Analysis textbook by Gelman](http://www.stat.columbia.edu/~gelman/)) distribution $p(y)$ that depends only on the data $y$, which only contributes to a proportionality constant under natural log."
   ]
  },
  {
   "cell_type": "code",
   "execution_count": 106,
   "id": "4d727375-5dcd-40d7-b39f-2101c6c90b64",
   "metadata": {},
   "outputs": [],
   "source": [
    "def E2FullMCMC(t, theta):\n",
    "    d0, Aeff0, E20, k1, k2, k3 = theta\n",
    "\n",
    "    summation = 0\n",
    "    innerFunc1 = np.exp(-k1 * t) / ((k1 - k2) * (k1 - k3))\n",
    "    innerFunc2 = np.exp(-k2 * t) / ((k1 - k2) * (k2 - k3))\n",
    "    innerFunc3 = np.exp(-k3 * t) / ((k1 - k3) * (k2 - k3))\n",
    "    summation = d0 * (innerFunc1 - innerFunc2 + innerFunc3)\n",
    "\n",
    "    summationEff = 0\n",
    "    innerFunc1Eff = np.exp(-k2 * t)\n",
    "    innerFunc2Eff = np.exp(-k3 * t)\n",
    "    summationEff = Aeff0 *(-innerFunc1Eff + innerFunc2Eff)\n",
    "\n",
    "    return k1 * k2 * summation + k2 * summationEff / (k2 - k3) + E20 * np.exp(-k3 * t)"
   ]
  },
  {
   "cell_type": "markdown",
   "id": "540cf61a-8218-496e-a11b-856d4ef923a7",
   "metadata": {},
   "source": [
    "We require\n",
    "- The initial dose $d(t_i)\\equiv d_i>0$;\n",
    "- Estradiol diffusion rate from DOT matrix pockets to skin $k_1>0$ and (the initial guess of) $k_1$ should be the inverse of the amount of estradiol released by a given patch (e.g., for $100\\rm~\\mu g/day$ Mylan Estradiol TDP, $k_1=1/(100/24)\\rm~day/\\mu g$);\n",
    "- Estradiol diffusion rate from the skin to the bloodstream $k_2>0$;\n",
    "- Estradiol elimination rate plus unbinding rate from Estrogen Receptor (ER) $k_3>0$, with the initial guess to be based on the [elimination half-life of transdermal estradiol](https://en.wikipedia.org/wiki/Pharmacokinetics_of_estradiol) $\\tau_{1/2}=37\\rm~hours\\implies k_3=1/37\\rm~hours^{-1}$;\n",
    "- We fix the initial value for the effect (skin) compartment $A_{\\rm eff}(t_i)\\ge0$ to be zero (we assume patches are taken off and new patches placed at new sites, so there shouldn't be anything stored by the skin);\n",
    "- We further fix the initial estradiol serum level $E_2(t_i)\\ge0$ and set it to the serum concentration at the initial time for all our data.\n",
    "\n",
    "Doing the above gives us the prior $\\ln[p(\\theta)]$:"
   ]
  },
  {
   "cell_type": "code",
   "execution_count": 107,
   "id": "d6888d12-1283-4bc0-92ff-a4c9bb8abf0c",
   "metadata": {},
   "outputs": [],
   "source": [
    "# prior function\n",
    "\n",
    "def lnprior(theta):\n",
    "    d0, Aeff0, E20, k1, k2, k3 = theta\n",
    "    if d0 <= 0 or Aeff0 < 0 or E20 < 0 or k1 <= 0 or k2 <= 0 or k3 <= 0:\n",
    "        return -np.inf    # \\equiv \\ln(0)\n",
    "    return 0    # \\equiv \\ln(1)"
   ]
  },
  {
   "cell_type": "raw",
   "id": "3e343832-b8ae-4566-a04d-de2e6eae383e",
   "metadata": {},
   "source": [
    "# normalize the data, cause issues with later steps so not doing this\n",
    "\n",
    "def dataNor(data):\n",
    "    yin = data[:,1]\n",
    "    iniSerCon = yin[0]\n",
    "    yout = np.zeros(np.size(yin))\n",
    "    for i in range(np.size(yin)):\n",
    "        yout[i] = yin[i] - iniSerCon\n",
    "    array = np.vstack((data[:,0], yout)).T\n",
    "    return array"
   ]
  },
  {
   "cell_type": "raw",
   "id": "cf6acfae-cf8b-4c65-a944-b1d1a6cb0e99",
   "metadata": {},
   "source": [
    "MylanTDP100Nor = dataNor(MylanTDP100)\n",
    "MylanTDP50Nor = dataNor(MylanTDP50)\n",
    "MylanTDP25Nor = dataNor(MylanTDP25)\n",
    "\n",
    "H2003aN30Estradot100Nor = dataNor(H2003aN30Estradot100)\n",
    "H2003aN30Estradot50Nor = dataNor(H2003aN30Estradot50)\n",
    "H2003aN30Estradot37_5Nor = dataNor(H2003aN30Estradot37_5)\n",
    "H2003aN30Estradot25Nor = dataNor(H2003aN30Estradot25)\n",
    "\n",
    "H2003bN11Estradot100Nor = dataNor(H2003bN11Estradot100)\n",
    "H2003bN11Estradot50Nor = dataNor(H2003bN11Estradot50)"
   ]
  },
  {
   "cell_type": "markdown",
   "id": "163841ed-7864-49b8-b0c1-a20ce66eb8fb",
   "metadata": {},
   "source": [
    "For the likelihood function $p(y_i|\\theta)$, we will use the [Gaussian distribution](https://en.wikipedia.org/wiki/Normal_distribution#With_unknown_mean_and_unknown_variance) $\\mathcal{N}(\\theta|\\mu,\\sigma^2)$ from `scipy.stats` such that $$p(y_i|\\theta)=\\mathcal{N}\\Big[y_i\\Big|\\mu=y_i-\\operatorname{E_2}(t,\\theta),\\sigma^2=\\sqrt{y_i}\\Big].$$\n",
    "\n",
    "Then for the entire data set under log, we have $$\\ln\\Big[p(y|\\theta)\\Big]=\\sum_i\\ln\\Big[p(y_i|\\theta)\\Big]=\\sum_i\\ln\\Bigg\\{\\mathcal{N}\\Big[y_i\\Big|\\mu=y_i-\\operatorname{E_2}(t,\\theta),\\sigma^2=\\sqrt{y_i}\\Big]\\Bigg\\}.$$"
   ]
  },
  {
   "cell_type": "code",
   "execution_count": 112,
   "id": "909b507f-622c-4c68-9756-b570e8ad34a8",
   "metadata": {},
   "outputs": [],
   "source": [
    "def lnlike(theta, t, y):\n",
    "    #d0, Aeff0, E20, k1, k2, k3 = theta\n",
    "    #xin = data[:,0]\n",
    "    #yin = data[:,1]\n",
    "    return np.sum(norm.logpdf(y, loc=E2FullMCMC(t, theta), scale=np.sqrt(y)))"
   ]
  },
  {
   "cell_type": "code",
   "execution_count": 113,
   "id": "1514a8b5-e06d-4c61-bd5b-7554aa1d56b4",
   "metadata": {},
   "outputs": [
    {
     "data": {
      "text/plain": [
       "-115.56118444732866"
      ]
     },
     "execution_count": 113,
     "metadata": {},
     "output_type": "execute_result"
    }
   ],
   "source": [
    "lnlike((245.8499,0,MylanTDPDays100[:,1][0],0.0541,27,0.0381), MylanTDP100[:,0], MylanTDP100[:,1])"
   ]
  },
  {
   "cell_type": "markdown",
   "id": "f7ba0733-1dda-4429-a186-fffb868e0368",
   "metadata": {},
   "source": [
    "Finally, we have the posterior distribution $$\\ln[p(\\theta|y)]\\propto\\ln[p(\\theta)\\cdot p(y|\\theta)]:$$"
   ]
  },
  {
   "cell_type": "code",
   "execution_count": 120,
   "id": "d0cc63ee-f0d2-49f7-81f5-db03cab0d4af",
   "metadata": {},
   "outputs": [],
   "source": [
    "def lnpost(theta, t, y):\n",
    "    #d0, Aeff0, E20, k1, k2, k3 = theta\n",
    "    lnpriorout = lnprior(theta)\n",
    "    if not np.isfinite(lnpriorout):\n",
    "        return -np.inf\n",
    "    return lnpriorout + lnlike(theta, t, y)"
   ]
  },
  {
   "cell_type": "code",
   "execution_count": 121,
   "id": "7aa45f41-b83b-4508-b01a-c4b94b5aefff",
   "metadata": {},
   "outputs": [],
   "source": [
    "p0Mylan100 = np.array([100, 0, MylanTDPDays100[:,1][0], 1/(100/24), 2, 1/37])"
   ]
  },
  {
   "cell_type": "code",
   "execution_count": 122,
   "id": "75870055-c56c-42e7-a69f-d2f08c4679e7",
   "metadata": {},
   "outputs": [
    {
     "data": {
      "text/plain": [
       "array([1.00000000e+02, 0.00000000e+00, 3.41296928e+00, 2.40000000e-01,\n",
       "       2.00000000e+00, 2.70270270e-02])"
      ]
     },
     "execution_count": 122,
     "metadata": {},
     "output_type": "execute_result"
    }
   ],
   "source": [
    "p0Mylan100"
   ]
  },
  {
   "cell_type": "code",
   "execution_count": 123,
   "id": "4aaed64b-6bff-421b-8204-49940904c6dc",
   "metadata": {},
   "outputs": [
    {
     "data": {
      "text/plain": [
       "-204.40783140947272"
      ]
     },
     "execution_count": 123,
     "metadata": {},
     "output_type": "execute_result"
    }
   ],
   "source": [
    "lnpost(p0Mylan100, MylanTDP100[:,0], MylanTDP100[:,1])"
   ]
  },
  {
   "cell_type": "code",
   "execution_count": 98,
   "id": "4030a4b1-f8ca-4f3d-9656-5f5671137095",
   "metadata": {},
   "outputs": [],
   "source": [
    "nwalkers = 128\n",
    "niter = 500    # number of iterations\n",
    "ndim = len(p0Mylan100)\n",
    "\n",
    "# https://emcee.readthedocs.io/en/stable/user/sampler/\n",
    "# args (Optional) – A list of extra positional arguments for log_prob_fn. ...\n",
    "# ... log_prob_fn will be called with the sequence log_pprob_fn(p, *args, **kwargs).\n",
    "samplerMylan100 = emcee.EnsembleSampler(nwalkers, ndim, lnpost, #pool=pool,\n",
    "                                        args=(MylanTDP100[:,0], MylanTDP100[:,1]))"
   ]
  },
  {
   "cell_type": "code",
   "execution_count": 99,
   "id": "0f516c65-3df0-4a9c-b300-bc75e6ae442e",
   "metadata": {},
   "outputs": [
    {
     "ename": "ValueError",
     "evalue": "incompatible input dimensions (1, 6)",
     "output_type": "error",
     "traceback": [
      "\u001b[0;31m---------------------------------------------------------------------------\u001b[0m",
      "\u001b[0;31mValueError\u001b[0m                                Traceback (most recent call last)",
      "Cell \u001b[0;32mIn[99], line 1\u001b[0m\n\u001b[0;32m----> 1\u001b[0m pos,prob,state \u001b[38;5;241m=\u001b[39m \u001b[43msamplerMylan100\u001b[49m\u001b[38;5;241;43m.\u001b[39;49m\u001b[43mrun_mcmc\u001b[49m\u001b[43m(\u001b[49m\u001b[43mMylan100Fit\u001b[49m\u001b[38;5;241;43m.\u001b[39;49m\u001b[43mparams\u001b[49m\u001b[43m,\u001b[49m\u001b[43m \u001b[49m\u001b[38;5;241;43m10\u001b[39;49m\u001b[43m)\u001b[49m\n",
      "File \u001b[0;32m~/venv310/lib/python3.10/site-packages/emcee/ensemble.py:443\u001b[0m, in \u001b[0;36mEnsembleSampler.run_mcmc\u001b[0;34m(self, initial_state, nsteps, **kwargs)\u001b[0m\n\u001b[1;32m    440\u001b[0m     initial_state \u001b[38;5;241m=\u001b[39m \u001b[38;5;28mself\u001b[39m\u001b[38;5;241m.\u001b[39m_previous_state\n\u001b[1;32m    442\u001b[0m results \u001b[38;5;241m=\u001b[39m \u001b[38;5;28;01mNone\u001b[39;00m\n\u001b[0;32m--> 443\u001b[0m \u001b[38;5;28;01mfor\u001b[39;00m results \u001b[38;5;129;01min\u001b[39;00m \u001b[38;5;28mself\u001b[39m\u001b[38;5;241m.\u001b[39msample(initial_state, iterations\u001b[38;5;241m=\u001b[39mnsteps, \u001b[38;5;241m*\u001b[39m\u001b[38;5;241m*\u001b[39mkwargs):\n\u001b[1;32m    444\u001b[0m     \u001b[38;5;28;01mpass\u001b[39;00m\n\u001b[1;32m    446\u001b[0m \u001b[38;5;66;03m# Store so that the ``initial_state=None`` case will work\u001b[39;00m\n",
      "File \u001b[0;32m~/venv310/lib/python3.10/site-packages/emcee/ensemble.py:308\u001b[0m, in \u001b[0;36mEnsembleSampler.sample\u001b[0;34m(self, initial_state, log_prob0, rstate0, blobs0, iterations, tune, skip_initial_state_check, thin_by, thin, store, progress, progress_kwargs)\u001b[0m\n\u001b[1;32m    306\u001b[0m state_shape \u001b[38;5;241m=\u001b[39m np\u001b[38;5;241m.\u001b[39mshape(state\u001b[38;5;241m.\u001b[39mcoords)\n\u001b[1;32m    307\u001b[0m \u001b[38;5;28;01mif\u001b[39;00m state_shape \u001b[38;5;241m!=\u001b[39m (\u001b[38;5;28mself\u001b[39m\u001b[38;5;241m.\u001b[39mnwalkers, \u001b[38;5;28mself\u001b[39m\u001b[38;5;241m.\u001b[39mndim):\n\u001b[0;32m--> 308\u001b[0m     \u001b[38;5;28;01mraise\u001b[39;00m \u001b[38;5;167;01mValueError\u001b[39;00m(\u001b[38;5;124mf\u001b[39m\u001b[38;5;124m\"\u001b[39m\u001b[38;5;124mincompatible input dimensions \u001b[39m\u001b[38;5;132;01m{\u001b[39;00mstate_shape\u001b[38;5;132;01m}\u001b[39;00m\u001b[38;5;124m\"\u001b[39m)\n\u001b[1;32m    309\u001b[0m \u001b[38;5;28;01mif\u001b[39;00m (\u001b[38;5;129;01mnot\u001b[39;00m skip_initial_state_check) \u001b[38;5;129;01mand\u001b[39;00m (\n\u001b[1;32m    310\u001b[0m     \u001b[38;5;129;01mnot\u001b[39;00m walkers_independent(state\u001b[38;5;241m.\u001b[39mcoords)\n\u001b[1;32m    311\u001b[0m ):\n\u001b[1;32m    312\u001b[0m     \u001b[38;5;28;01mraise\u001b[39;00m \u001b[38;5;167;01mValueError\u001b[39;00m(\n\u001b[1;32m    313\u001b[0m         \u001b[38;5;124m\"\u001b[39m\u001b[38;5;124mInitial state has a large condition number. \u001b[39m\u001b[38;5;124m\"\u001b[39m\n\u001b[1;32m    314\u001b[0m         \u001b[38;5;124m\"\u001b[39m\u001b[38;5;124mMake sure that your walkers are linearly independent for the \u001b[39m\u001b[38;5;124m\"\u001b[39m\n\u001b[1;32m    315\u001b[0m         \u001b[38;5;124m\"\u001b[39m\u001b[38;5;124mbest performance\u001b[39m\u001b[38;5;124m\"\u001b[39m\n\u001b[1;32m    316\u001b[0m     )\n",
      "\u001b[0;31mValueError\u001b[0m: incompatible input dimensions (1, 6)"
     ]
    }
   ],
   "source": [
    "pos,prob,state = samplerMylan100.run_mcmc(Mylan100Fit.params, 10)"
   ]
  },
  {
   "cell_type": "code",
   "execution_count": null,
   "id": "d050ffe0-4b1a-421e-a511-ab1ba2a1aeb0",
   "metadata": {},
   "outputs": [],
   "source": []
  }
 ],
 "metadata": {
  "kernelspec": {
   "display_name": "Python 3 (ipykernel)",
   "language": "python",
   "name": "python3"
  },
  "language_info": {
   "codemirror_mode": {
    "name": "ipython",
    "version": 3
   },
   "file_extension": ".py",
   "mimetype": "text/x-python",
   "name": "python",
   "nbconvert_exporter": "python",
   "pygments_lexer": "ipython3",
   "version": "3.10.13"
  }
 },
 "nbformat": 4,
 "nbformat_minor": 5
}
