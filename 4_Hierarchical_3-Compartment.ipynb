{
 "cells": [
  {
   "cell_type": "markdown",
   "id": "7aca97f7-bf3d-4176-a707-79d1df658ba6",
   "metadata": {},
   "source": [
    "# Multi-Level Models (Hierarchical Models)\n",
    "\n",
    "So far, we haven't considered the probability distribution of the fitting parameters $D_0,k_1,k_2$, and $k_3$. But to use a hierarchical model to combine our inference from different patch data and allow us to model our serum estradiol concentration, we will need to introduce hyperparameters that connect different studies. This way, our fitting parameters are given a \"probabilistic specification\" in terms of hyperparameters that are common for all. In our case, the hyperparameters would be the parameters of the distribution ([hyperprior](https://en.wikipedia.org/wiki/Hyperprior)) we choose to use in order to model our fitting parameters."
   ]
  },
  {
   "cell_type": "code",
   "execution_count": null,
   "id": "bb72f0c3-aa56-4712-888b-0e79c1ece2e6",
   "metadata": {},
   "outputs": [],
   "source": [
    "#https://www.pymc.io/projects/examples/en/latest/generalized_linear_models/GLM-hierarchical-binomial-model.html\n",
    "#https://github.com/markdregan/Bayesian-Modelling-in-Python/blob/master/Section%203.%20Hierarchical%20modelling.ipynb\n",
    "#https://storopoli.io/Bayesian-Julia/"
   ]
  },
  {
   "cell_type": "markdown",
   "id": "5d1a70a0-2d0e-4ba8-91c4-7a98fee2acfd",
   "metadata": {},
   "source": [
    "# Before and After Patch Removal\n",
    "\n",
    "We can see from [3_Steady-State_Multi-Dose_3-Compartment](3_Steady-State_Multi-Dose_3-Compartment) that the decay after patch removal is not captured when the serum Estradiol solution didn't consider measurement after patch removal as a separate process.\n",
    "\n",
    "After patch removal, the estradiol concentration within the depot $d_0$ (and thus $D(t_0)$) is zero.\n",
    "\n",
    "We then [evolve](https://discord.com/channels/438306949285806082/1201973466845151362/1206123175331627029) our solution $E_2(t)$ with the initial condition at patch removal $t_{\\rm rem}$ to be given by $A_{\\rm eff}(t_{\\rm rem})$ and $E_2(t_{\\rm rem})$. i.e., we have for $E_2(t)$ after $t_{\\rm rem}$\n",
    "\n",
    "$$E_2^{t_{\\rm rem}}(t)=\\frac{k_2A_{\\rm eff}(t_{\\rm rem})}{k_2-k_3}\\left[-\\frac{e^{-k_2(t-T\\operatorname{floor}(t/T))}}{1-e^{-k_2T}}+\\frac{e^{-k_3(t-T\\operatorname{floor}(t/T))}}{1-e^{-k_3T}}\\right]+E_2(t_{\\rm rem})\\frac{e^{-k_3(t-T\\operatorname{floor}(t/T))}}{1-e^{-k_3T}}.$$"
   ]
  },
  {
   "cell_type": "code",
   "execution_count": 76,
   "id": "e16839ca-5014-441b-8833-23724186d11c",
   "metadata": {},
   "outputs": [],
   "source": [
    "# fitting using single-dose model\n",
    "# improved, now take patch removal into account, assume removal time t_{\\rm rem} = 3.5 days\n",
    "\n",
    "def E2Dose(t, d0, k1, k2, k3):\n",
    "    summation = 0\n",
    "    innerFunc1 = np.exp(-k1 * t) / ((k1 - k2) * (k1 - k3))\n",
    "    innerFunc2 = np.exp(-k2 * t) / ((k1 - k2) * (k2 - k3))\n",
    "    innerFunc3 = np.exp(-k3 * t) / ((k1 - k3) * (k2 - k3))\n",
    "    summation = d0 * (innerFunc1 - innerFunc2 + innerFunc3)\n",
    "    return k1 * k2 * summation\n",
    "\n",
    "# A_{\\rm eff}(t_0) term\n",
    "\n",
    "def AEff(t, Aeff0, k2, k3):\n",
    "    summationEff = 0\n",
    "    innerFunc1Eff = np.exp(-k2 * t)\n",
    "    innerFunc2Eff = np.exp(-k3 * t)\n",
    "    summationEff = Aeff0 *(-innerFunc1Eff + innerFunc2Eff)\n",
    "    return k2 * summationEff / (k2 - k3)\n",
    "\n",
    "# E2(t_0) term\n",
    "\n",
    "def E2(t, E20, k3):\n",
    "    return E20 * np.exp(-k3 * t)\n",
    "\n",
    "def E2Full(t, d0, Aeff0, E20, k1, k2, k3):\n",
    "    if t <= 3.5*24:\n",
    "        return E2Dose(t, d0, k1, k2, k3) + AEff(t, Aeff0, k2, k3) + E2(t, E20, k3)\n",
    "    else:\n",
    "        return AEff(t, Aeff0, k2, k3) + E2(t, E20, k3)"
   ]
  },
  {
   "cell_type": "code",
   "execution_count": null,
   "id": "17108997-5515-4d71-9ea3-01ba1bec7c6c",
   "metadata": {},
   "outputs": [],
   "source": []
  },
  {
   "cell_type": "code",
   "execution_count": null,
   "id": "5801d921-b625-43c8-8141-87df8d978ec4",
   "metadata": {},
   "outputs": [],
   "source": [
    "def emceeFit(datain, D0in, k1in, k2in, k3in):\n",
    "    E2Modal = Model(E2Imp)\n",
    "    Params = E2Model.make_params(d0=D0in, k1=k1in, k2=k2in, k3=k3in)\n",
    "    emcee_kws = dict(steps=10000, burn=500, thin=20, is_weighted=False)\n",
    "    result_emcee = E2Model.fit(data=datain[:,1], t=datain[:,0],\n",
    "                                 params=Params, method='emcee',\n",
    "                                 nan_policy='omit', fit_kws=emcee_kws)\n",
    "    return result_emcee"
   ]
  },
  {
   "cell_type": "code",
   "execution_count": null,
   "id": "cf2bc6c2-c5dc-448f-b8a0-5d423620f97e",
   "metadata": {},
   "outputs": [],
   "source": [
    "emceeFit()"
   ]
  }
 ],
 "metadata": {
  "kernelspec": {
   "display_name": "Python 3 (ipykernel)",
   "language": "python",
   "name": "python3"
  },
  "language_info": {
   "codemirror_mode": {
    "name": "ipython",
    "version": 3
   },
   "file_extension": ".py",
   "mimetype": "text/x-python",
   "name": "python",
   "nbconvert_exporter": "python",
   "pygments_lexer": "ipython3",
   "version": "3.10.13"
  }
 },
 "nbformat": 4,
 "nbformat_minor": 5
}
